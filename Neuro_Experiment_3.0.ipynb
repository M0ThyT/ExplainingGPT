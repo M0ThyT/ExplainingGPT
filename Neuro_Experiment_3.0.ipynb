{
 "cells": [
  {
   "attachments": {},
   "cell_type": "markdown",
   "metadata": {},
   "source": [
    "# Experiment 3 of the NeuroScienceJargon Paper\n",
    "This paper shows the experiment conducted to kind of replicate the third results of the paper: Deconstructing the seductive allure of neuroscience explanations"
   ]
  }
 ],
 "metadata": {
  "language_info": {
   "name": "python"
  },
  "orig_nbformat": 4
 },
 "nbformat": 4,
 "nbformat_minor": 2
}
