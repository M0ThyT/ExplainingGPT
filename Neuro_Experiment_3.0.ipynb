{
 "cells": [
  {
   "attachments": {},
   "cell_type": "markdown",
   "metadata": {},
   "source": [
    "# Experiment 3 of the NeuroScienceJargon Paper\n",
    "This paper shows the experiment conducted to kind of replicate the third results of the paper: Deconstructing the seductive allure of neuroscience explanations"
   ]
  },
  {
   "cell_type": "code",
   "execution_count": 1,
   "metadata": {},
   "outputs": [],
   "source": [
    "import pandas as pd\n",
    "import re\n",
    "import random\n",
    "import numpy as np\n",
    "from utils_openAI import *\n",
    "import warnings\n",
    "warnings.simplefilter(action='ignore', category=FutureWarning) #for nicer output"
   ]
  },
  {
   "cell_type": "code",
   "execution_count": 2,
   "metadata": {},
   "outputs": [],
   "source": [
    "stimulus = ['Babies were seated on their mothers’ laps in front of a stage. Researchers used a camera to track where the babies were looking. The babies saw a hand reach out and place one doll on the stage. Then a screen was raised, hiding the doll. A hand reached out again and placed a second doll on the stage, out of sight behind the screen. Then the screen dropped. In some cases, there were two dolls on the stage, as there should be, and in some cases there was only one doll. The researchers found that the babies looked much longer at the stage when there was only one doll than when there were two dolls. This looking-time difference between one doll and two dolls lead the researchers to conclude that babies can calculate 1 + 1 = 2.', \n",
    "'Subjects sat at a computer screen. They saw a rapidly flashing series of pictures of faces. Somewhere in this series of faces there were two pictures of houses. Subjects had to press a button each time they saw a house. When the two houses were far apart in the sequence, the subjects were very good at this task. But when the houses were presented close together in the sequence, subjects failed to press the button for the second house. The researchers call this phenomenon “attentional blink.”', \n",
    "'Researchers recruited equal numbers of male and female participants. The participants took a series of spatial  reasoning tasks and were interviewed. The researchers determined that men are better at spatial reasoning in general. From the interviews, they discovered that the men had played more sports in their childhood on average than the women.']\n",
    "\n"
   ]
  },
  {
   "cell_type": "code",
   "execution_count": 3,
   "metadata": {},
   "outputs": [],
   "source": [
    "###Answers\n",
    "#Simple neuro science good\n",
    "ns_good = ['Scans of the babies’ brains show that the brain region known to be involved in math governed the babies’ expectations about how many dolls there should be. They expected two, so they were surprised to see one, so they looked longer.', \n",
    "           'Researchers concluded that this occurs because of areas of the brain involved in attention. Subjects were still processing the first house and missed the second because they did not have enough attentional resources left.',\n",
    "           'Brain scans of the region known to be involved in spatial tasks indicate that the difference in sports involvement explains this gender difference.']\n",
    "\n",
    "#simple neuro science bad\n",
    "ns_bad = ['Scans of the babies’ brains show that the brain region known to be involved in math governed how long babies looked at the stage. Researchers used this timing data, which is proportional to babies’ liking of the display, to calculate their preferences.', \n",
    "          'Researchers concluded that this occurs because of areas of the brain involved in attention. The second house appeared later in the sequence. This temporal relationship between the two houses caused the attentional blink.',\n",
    "          'Brain scans of the region known to be involved in spatial tasks indicate that women’s poor performance relative to men’s explains this gender difference.']\n",
    "\n",
    "#neuro science + Jargon good\n",
    "nsj_good = ['fMRI scans of the babies’ brains show that the parietal lobe, known to be involved in math, governed the babies’ expectations about how many dolls there should be. They expected two, so they were surprised to see one, so they looked longer.',\n",
    "            'Researchers concluded that this occurs because of frontal lobe areas, shown to mediate attention. Subjects were still processing the first house and missed the second because they did not have enough attentional resources left.', \n",
    "            'fMRI scans of the right premotor area, known to be involved in spatial tasks, indicate that the difference in sports involvement explains this gender difference.']\n",
    "\n",
    "#Neuro science + Jargon bad\n",
    "nsj_bad = ['fMRI scans of the babies’ brains show that the parietal lobe, known to be involved in math, governed how long babies looked at the stage. Researchers used this timing data, which is proportional to babies’ liking of the display, to calculate their preferences.', \n",
    "           'Researchers concluded that this occurs because of frontal lobe areas, shown to mediate attention. The second house appeared later in the sequence. This temporal relationship between the two houses caused the attentional blink.',\n",
    "           'MRI scans of the right premotor area, known to be involved in spatial tasks, indicate that women’s poor performance relative to men’s explains this gender difference.']\n",
    "\n",
    "#without neuroscience good\n",
    "without_good = [\"The researchers claim this happens because the babies had formed an expectation about how many dolls there should be on the stage. The babies knew there should be two dolls, and their surprise at seeing only one led to their looking longer.\",\n",
    "                \"The researchers claim that this phenomenon occurs because the subjects were still processing the first house and missed seeing the second house because they did not have enough attentional resources left.\", \n",
    "                \"The researchers conclude that the difference in involvement in sports explains the gender difference in spatial reasoning abilities.\"]\n",
    "\n",
    "#without neuroscience bad\n",
    "without_bad = [\"The researchers claim this happens because the amount of time the babies spent looking at the stage is directly proportional to how much they liked the display. The researchers used this timing data to calculate babies’ preference for the single doll.\", \n",
    "               \"The researchers claim that this phenomenon occurs because the second house appeared later in the sequence than the first house, and this temporal relationship between the two houses caused the attentional blink.\", \n",
    "               \"The researchers conclude that women’s poor performance relative to men’s explains the gender difference in spatial reasoning abilities.\"]\n",
    "\n",
    "\n",
    "#make into a dict of lists\n",
    "explanations_s3 = {'Simple Neuro Science Good': ns_good, 'Simple Neuro Science Bad': ns_bad, 'Neuro Science and Jargon Good': nsj_good, 'Neuro Science and Jargon Bad': nsj_bad, 'Without Neuro Science Good': without_good, 'Without Neuro Science Bad': without_bad}\n"
   ]
  },
  {
   "cell_type": "code",
   "execution_count": 4,
   "metadata": {},
   "outputs": [
    {
     "name": "stdout",
     "output_type": "stream",
     "text": [
      "Babies were seated on their mothers’ laps in front of a stage. Researchers used a camera to track where the babies were looking. The babies saw a hand reach out and place one doll on the stage. Then a screen was raised, hiding the doll. A hand reached out again and placed a second doll on the stage, out of sight behind the screen. Then the screen dropped. In some cases, there were two dolls on the stage, as there should be, and in some cases there was only one doll. The researchers found that the babies looked much longer at the stage when there was only one doll than when there were two dolls. This looking-time difference between one doll and two dolls lead the researchers to conclude that babies can calculate 1 + 1 = 2. The researchers claim this happens because the babies had formed an expectation about how many dolls there should be on the stage. The babies knew there should be two dolls, and their surprise at seeing only one led to their looking longer. Without Neuro Science Good 1 0 0 0\n"
     ]
    }
   ],
   "source": [
    "st, exp, cond, good, jarg, neuro, stim_num = make_condition_exp3(stimulus, explanations_s3)\n",
    "print(st, exp, cond, good, jarg, neuro, stim_num)"
   ]
  },
  {
   "cell_type": "code",
   "execution_count": 5,
   "metadata": {},
   "outputs": [
    {
     "data": {
      "text/plain": [
       "'#####Phenomenon#####: Babies were seated on their mothers’ laps in front of a stage. Researchers used a camera to track where the babies were looking. The babies saw a hand reach out and place one doll on the stage. Then a screen was raised, hiding the doll. A hand reached out again and placed a second doll on the stage, out of sight behind the screen. Then the screen dropped. In some cases, there were two dolls on the stage, as there should be, and in some cases there was only one doll. The researchers found that the babies looked much longer at the stage when there was only one doll than when there were two dolls. This looking-time difference between one doll and two dolls lead the researchers to conclude that babies can calculate 1 + 1 = 2. #####Explanation#####: The researchers claim this happens because the babies had formed an expectation about how many dolls there should be on the stage. The babies knew there should be two dolls, and their surprise at seeing only one led to their looking longer.'"
      ]
     },
     "execution_count": 5,
     "metadata": {},
     "output_type": "execute_result"
    }
   ],
   "source": [
    "create_prompt_exp3(st, exp)"
   ]
  },
  {
   "cell_type": "code",
   "execution_count": 6,
   "metadata": {},
   "outputs": [],
   "source": [
    "instruction = '''You are a research subject participating in an experiment where you will be given a phenomenon and an explanation. \n",
    "The prompt will show you the text \"#####Phenomenon#####:\" before the phenomenon, and \"#####Explanation#####:\" before the explanation. \n",
    "You are then required to evaluate how satisfying you find the explanation on a scale from -4 to +4, where -4 means a very unsatisfying, 0 means a neutral \n",
    "explanation, and +4 means a satisfying Explanation. Your answer should only contain the evaluation number, and it can be any integer \n",
    "between -4 and +4.'''\n",
    "#not amazing because you have to lie (about 4 being the range), but it just thinks they are exclusive regardless of the prompt\n",
    "#same as exp 1, just added the word satisfying"
   ]
  },
  {
   "attachments": {},
   "cell_type": "markdown",
   "metadata": {},
   "source": [
    "Seems to work, run experiment"
   ]
  },
  {
   "cell_type": "code",
   "execution_count": null,
   "metadata": {},
   "outputs": [],
   "source": [
    "#create empty pandas with columns stimulus_number, condition, good_first, answer \n",
    "df = pd.DataFrame(columns = ['stimulus_number', 'condition', 'good', 'jargon', 'neuroscience', 'answer'])\n",
    "for i in range(30):\n",
    "    #create condition\n",
    "    stimulus_participant, explanation_participant, condition, good, jargon, neuro, stimulus_num = make_condition_exp3(stimulus, explanations_s3)\n",
    "    #create prompt\n",
    "    prompt = create_prompt_exp3(stimulus_participant, explanation_participant)\n",
    "\n",
    "    #set OPEN ai API key\n",
    "    openai.api_key = get_api_key(personal = False)\n",
    "    #get answer from GPT\n",
    "    response = openai.ChatCompletion.create(\n",
    "        model=\"gpt-3.5-turbo\",\n",
    "        messages=[\n",
    "            {\"role\": \"system\", \"content\": instruction},\n",
    "            {\"role\": \"user\", \"content\": prompt}\n",
    "        ], \n",
    "        timeout = 60, #set timeout to 60 seconds\n",
    "        temperature = 0.2 #set temperature to 0.2 to have little randomless only\n",
    "    )\n",
    "    #get response\n",
    "    answer = response['choices'][0]['message']['content']\n",
    "\n",
    "    #create a new pd df with 1 row as the one outside the loop with values filled in\n",
    "    df_temp = pd.DataFrame([[stimulus_num, condition, good, jargon, neuro, answer]], columns = ['stimulus_number', 'condition', 'good', 'jargon', 'neuroscience', 'answer'])\n",
    "    #append to df\n",
    "    df = pd.concat([df, df_temp])\n",
    "    #save csv file after every itteration\n",
    "    df.to_csv(\"NeuroExp3_Pilot.csv\") #stopped working after 153"
   ]
  }
 ],
 "metadata": {
  "kernelspec": {
   "display_name": "base",
   "language": "python",
   "name": "python3"
  },
  "language_info": {
   "codemirror_mode": {
    "name": "ipython",
    "version": 3
   },
   "file_extension": ".py",
   "mimetype": "text/x-python",
   "name": "python",
   "nbconvert_exporter": "python",
   "pygments_lexer": "ipython3",
   "version": "3.9.13"
  },
  "orig_nbformat": 4
 },
 "nbformat": 4,
 "nbformat_minor": 2
}
