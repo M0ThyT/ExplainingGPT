{
 "cells": [
  {
   "attachments": {},
   "cell_type": "markdown",
   "metadata": {},
   "source": [
    "# Experiment 2 of the NeuroScienceJargon Paper\n",
    "This paper shows the experiment conducted to kind of replicate the results of the paper: Deconstructing the seductive allure of neuroscience explanations. \n",
    "In this experiment, subjects are always given one good and one bad explanation for a phenomenon. There are three conditions: \n",
    "* Both explanations containing neuroscience jargon\n",
    "* No explanation containing neuroscience jargon\n",
    "* Only the bad explanation containing neuroscience jargon\n",
    "\n",
    "subjects are asked to pick the explanation they find more satisfying, and are asked to explain in one or two sentences why they picked that explanation."
   ]
  },
  {
   "cell_type": "code",
   "execution_count": 1,
   "metadata": {},
   "outputs": [],
   "source": [
    "from utils_openAI import *\n",
    "import warnings\n",
    "warnings.simplefilter(action='ignore', category=FutureWarning) #for nicer output"
   ]
  },
  {
   "attachments": {},
   "cell_type": "markdown",
   "metadata": {},
   "source": [
    "Get the Stimulus and the explanations ready first. "
   ]
  },
  {
   "cell_type": "code",
   "execution_count": 2,
   "metadata": {},
   "outputs": [],
   "source": [
    "stimulus = ['Babies were seated on their mothers’ laps in front of a stage. Researchers used a camera to track where the babies were looking. The babies saw a hand reach out and place one doll on the stage. Then a screen was raised, hiding the doll. A hand reached out again and placed a second doll on the stage, out of sight behind the screen. Then the screen dropped. In some cases, there were two dolls on the stage, as there should be, and in some cases there was only one doll. The researchers found that the babies looked much longer at the stage when there was only one doll than when there were two dolls. This looking-time difference between one doll and two dolls lead the researchers to conclude that babies can calculate 1 + 1 = 2.', \n",
    "'Subjects sat at a computer screen. They saw a rapidly flashing series of pictures of faces. Somewhere in this series of faces there were two pictures of houses. Subjects had to press a button each time they saw a house. When the two houses were far apart in the sequence, the subjects were very good at this task. But when the houses were presented close together in the sequence, subjects failed to press the button for the second house. The researchers call this phenomenon “attentional blink.”', \n",
    "'Researchers recruited equal numbers of male and female participants. The participants took a series of spatial  reasoning tasks and were interviewed. The researchers determined that men are better at spatial reasoning in general. From the interviews, they discovered that the men had played more sports in their childhood on average than the women.']\n"
   ]
  },
  {
   "cell_type": "code",
   "execution_count": 3,
   "metadata": {},
   "outputs": [],
   "source": [
    "#explanation\n",
    "#Without Neuroscience Short Good\n",
    "without_good = [\"The researchers claim this happens because the babies had formed an expectation about how many dolls there should be on the stage. The babies knew there should be two dolls, and their surprise at seeing only one led to their looking longer.\",\n",
    "      \"The researchers claim that this phenomenon occurs because the subjects were still processing the first house and missed seeing the second house because they did not have enough attentional resources left.\", \n",
    "      \"The researchers conclude that the difference in involvement in sports explains the gender difference in spatial reasoning abilities.\"]\n",
    "\n",
    "#Without Neuroscience Short Bad\n",
    "without_bad = [\"The researchers claim this happens because the amount of time the babies spent looking at the stage is directly proportional to how much they liked the display. The researchers used this timing data to calculate babies’ preference for the single doll.\", \n",
    "      \"The researchers claim that this phenomenon occurs because the second house appeared later in the sequence than the first house, and this temporal relationship between the two houses caused the attentional blink.\", \n",
    "      \"The researchers conclude that women’s poor performance relative to men’s explains the gender difference in spatial reasoning abilities.\"]\n",
    "\n",
    "\n",
    "#With Neuroscience Short Good\n",
    "with_good = [\"Scans of the babies’ brains show that the parietal lobe, known to be involved in math, governed the babies’ expectations about how many dolls there should be. They expected two, so they were surprised to see one, so they looked longer.\", \n",
    "      \"Researchers concluded that this occurs because of frontal lobe areas, previously shown to mediate attention. Subjects were still processing the first house and missed the second because they had insufficient attentional resources.\", \n",
    "      \"Brain scans of the right premotor area, known to be involved in spatial tasks, indicate that the difference in sports involvement explains this gender difference.\"]\n",
    "\n",
    "\n",
    "#With Neuroscience Short Bad\n",
    "with_bad = [\"Scans of the babies’ brains show that the parietal lobe, known to be involved in math, governed how long babies looked at the stage. Researchers used this timing data, which is proportional to babies’ liking of the display, to calculate their preferences.\", \n",
    "      \"Researchers concluded that this occurs because of frontal lobe areas, previously shown to mediate attention. The second house appeared later in the sequence. This temporal relationship between the two houses caused the attentional blink.\", \n",
    "      \"Brain scans of the right premotor area, known to be involved in spatial tasks, indicate that women’s poor performance relative to men’s explains this gender difference.\"]\n",
    "\n",
    "\n",
    "\n",
    "#make into a dict of lists\n",
    "explanations_s2 = {\"Without Neuroscience Short Good\":without_good, \"Without Neuroscience Short Bad\":without_bad,  \"With Neuroscience Short Good\":with_good, \"With Neuroscience Short Bad\":with_bad}\n"
   ]
  },
  {
   "attachments": {},
   "cell_type": "markdown",
   "metadata": {},
   "source": [
    "Test whether the functions work to create the prompts and conditions"
   ]
  },
  {
   "cell_type": "code",
   "execution_count": 4,
   "metadata": {},
   "outputs": [
    {
     "name": "stdout",
     "output_type": "stream",
     "text": [
      "['Babies were seated on their mothers’ laps in front of a stage. Researchers used a camera to track where the babies were looking. The babies saw a hand reach out and place one doll on the stage. Then a screen was raised, hiding the doll. A hand reached out again and placed a second doll on the stage, out of sight behind the screen. Then the screen dropped. In some cases, there were two dolls on the stage, as there should be, and in some cases there was only one doll. The researchers found that the babies looked much longer at the stage when there was only one doll than when there were two dolls. This looking-time difference between one doll and two dolls lead the researchers to conclude that babies can calculate 1 + 1 = 2.', 'Scans of the babies’ brains show that the parietal lobe, known to be involved in math, governed the babies’ expectations about how many dolls there should be. They expected two, so they were surprised to see one, so they looked longer.', 'Scans of the babies’ brains show that the parietal lobe, known to be involved in math, governed how long babies looked at the stage. Researchers used this timing data, which is proportional to babies’ liking of the display, to calculate their preferences.'] With 0 True\n"
     ]
    }
   ],
   "source": [
    "l, c, n, g = make_condition_exp2(stimulus, explanations_s2)\n",
    "print(l, c, n, g)"
   ]
  },
  {
   "cell_type": "code",
   "execution_count": 5,
   "metadata": {},
   "outputs": [
    {
     "name": "stdout",
     "output_type": "stream",
     "text": [
      "#####Phenomenon#####:\n",
      "Babies were seated on their mothers’ laps in front of a stage. Researchers used a camera to track where the babies were looking. The babies saw a hand reach out and place one doll on the stage. Then a screen was raised, hiding the doll. A hand reached out again and placed a second doll on the stage, out of sight behind the screen. Then the screen dropped. In some cases, there were two dolls on the stage, as there should be, and in some cases there was only one doll. The researchers found that the babies looked much longer at the stage when there was only one doll than when there were two dolls. This looking-time difference between one doll and two dolls lead the researchers to conclude that babies can calculate 1 + 1 = 2.\n",
      "#####Explanation 1#####:\n",
      "Scans of the babies’ brains show that the parietal lobe, known to be involved in math, governed the babies’ expectations about how many dolls there should be. They expected two, so they were surprised to see one, so they looked longer.\n",
      "#####Explanation 2#####:\n",
      "Scans of the babies’ brains show that the parietal lobe, known to be involved in math, governed how long babies looked at the stage. Researchers used this timing data, which is proportional to babies’ liking of the display, to calculate their preferences.\n"
     ]
    }
   ],
   "source": [
    "print(create_prompt_exp2(l, g))"
   ]
  },
  {
   "attachments": {},
   "cell_type": "markdown",
   "metadata": {},
   "source": [
    "Create the instructions for GPT"
   ]
  },
  {
   "cell_type": "code",
   "execution_count": 6,
   "metadata": {},
   "outputs": [],
   "source": [
    "instruction = '''You are a research subject participating in an experiment where you will be given a phenomenon and 2 explanations for the phenomenon. \n",
    "The prompt will show you the text \"#####Phenomenon#####:\" before the phenomenon,  \"#####Explanation 1#####:\" before the first explanation, and \n",
    "#####Explanation 2#####: before the second explanation. Your task is to pick the explanation that you find more satisfying. To do that, please answer with\n",
    "[1] if you prefer explanation number 1, and [2] if you prefer explanation number 2, and [0] if you find the two explanations equally satisfying. \n",
    "After you have made your choice, please also explain in one or two sentences why you made that choice. \n",
    "Return your answer in the following format: [int]-Explanation why you chose that answer.'''"
   ]
  },
  {
   "attachments": {},
   "cell_type": "markdown",
   "metadata": {},
   "source": [
    "Run the Experiment."
   ]
  },
  {
   "cell_type": "code",
   "execution_count": null,
   "metadata": {},
   "outputs": [],
   "source": [
    "#create empty pandas with columns stimulus_number, condition, good_first, answer \n",
    "df = pd.DataFrame(columns = ['stimulus_number', 'condition', 'good_first', 'answer'])\n",
    "for i in range(400):\n",
    "    #create condition\n",
    "    cond_list, condition, num_stimulus, good_first = make_condition_exp2(stimulus, explanations_s2)\n",
    "    #create prompt\n",
    "    prompt = create_prompt_exp2(cond_list, good_first)\n",
    "\n",
    "    #set OPEN ai API key\n",
    "    openai.api_key = get_api_key(personal = False)\n",
    "    #get answer from GPT\n",
    "    response = openai.ChatCompletion.create(\n",
    "        model=\"gpt-3.5-turbo\",\n",
    "        messages=[\n",
    "            {\"role\": \"system\", \"content\": instruction},\n",
    "            {\"role\": \"user\", \"content\": prompt}\n",
    "        ], \n",
    "        timeout = 60, #set timeout to 60 seconds\n",
    "        temperature = 0.2 #set temperature to 0.2 to have little randomless only\n",
    "    )\n",
    "    #get response\n",
    "    answer = response['choices'][0]['message']['content']\n",
    "\n",
    "    #create a new pd df with 1 row as the one outside the loop with values filled in\n",
    "    df_temp = pd.DataFrame([[num_stimulus, condition, good_first, answer]], columns = ['stimulus_number', 'condition', 'good_first', 'answer'])\n",
    "    #append to df\n",
    "    df = pd.concat([df, df_temp])\n",
    "    #save csv file after every itteration\n",
    "    df.to_csv(\"NeuroExp2.csv\")\n",
    "\n",
    "    "
   ]
  },
  {
   "cell_type": "code",
   "execution_count": null,
   "metadata": {},
   "outputs": [],
   "source": []
  },
  {
   "cell_type": "code",
   "execution_count": null,
   "metadata": {},
   "outputs": [],
   "source": []
  }
 ],
 "metadata": {
  "kernelspec": {
   "display_name": "base",
   "language": "python",
   "name": "python3"
  },
  "language_info": {
   "codemirror_mode": {
    "name": "ipython",
    "version": 3
   },
   "file_extension": ".py",
   "mimetype": "text/x-python",
   "name": "python",
   "nbconvert_exporter": "python",
   "pygments_lexer": "ipython3",
   "version": "3.9.13"
  },
  "orig_nbformat": 4
 },
 "nbformat": 4,
 "nbformat_minor": 2
}
