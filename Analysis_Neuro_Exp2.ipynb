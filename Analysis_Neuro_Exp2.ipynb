{
 "cells": [
  {
   "attachments": {},
   "cell_type": "markdown",
   "metadata": {},
   "source": [
    "# Analysis of Experiment 2 (Neuroscience)\n",
    "In this notebook I will walk through the analysis I did for the second Experiment. There are 4 major sections:\n",
    "* Preperation and First Look\n",
    "* Good vs Bad Explanations Overall\n",
    "* The Conditions\n",
    "* Neuro Science Language in the Response"
   ]
  },
  {
   "attachments": {},
   "cell_type": "markdown",
   "metadata": {},
   "source": [
    "## Preperation and First Look"
   ]
  },
  {
   "cell_type": "code",
   "execution_count": 1,
   "metadata": {},
   "outputs": [],
   "source": [
    "#Modules\n",
    "import pandas as pd\n",
    "import numpy as np\n",
    "import matplotlib.pyplot as plt\n",
    "import seaborn as sns\n",
    "import statsmodels.api as sm\n",
    "from statsmodels.formula.api import ols\n",
    "from scipy.stats import ttest_ind\n",
    "from utils_openAI import *"
   ]
  },
  {
   "cell_type": "code",
   "execution_count": 5,
   "metadata": {},
   "outputs": [
    {
     "data": {
      "text/html": [
       "<div>\n",
       "<style scoped>\n",
       "    .dataframe tbody tr th:only-of-type {\n",
       "        vertical-align: middle;\n",
       "    }\n",
       "\n",
       "    .dataframe tbody tr th {\n",
       "        vertical-align: top;\n",
       "    }\n",
       "\n",
       "    .dataframe thead th {\n",
       "        text-align: right;\n",
       "    }\n",
       "</style>\n",
       "<table border=\"1\" class=\"dataframe\">\n",
       "  <thead>\n",
       "    <tr style=\"text-align: right;\">\n",
       "      <th></th>\n",
       "      <th>Unnamed: 0</th>\n",
       "      <th>stimulus_number</th>\n",
       "      <th>condition</th>\n",
       "      <th>good_first</th>\n",
       "      <th>answer</th>\n",
       "    </tr>\n",
       "  </thead>\n",
       "  <tbody>\n",
       "    <tr>\n",
       "      <th>0</th>\n",
       "      <td>0</td>\n",
       "      <td>2</td>\n",
       "      <td>With</td>\n",
       "      <td>True</td>\n",
       "      <td>[1]-I choose explanation 1 because it provides...</td>\n",
       "    </tr>\n",
       "    <tr>\n",
       "      <th>1</th>\n",
       "      <td>0</td>\n",
       "      <td>1</td>\n",
       "      <td>Without</td>\n",
       "      <td>False</td>\n",
       "      <td>[2]-I chose explanation 2 because it seems mor...</td>\n",
       "    </tr>\n",
       "    <tr>\n",
       "      <th>2</th>\n",
       "      <td>0</td>\n",
       "      <td>2</td>\n",
       "      <td>With</td>\n",
       "      <td>True</td>\n",
       "      <td>[1]-I choose explanation 1 because it provides...</td>\n",
       "    </tr>\n",
       "    <tr>\n",
       "      <th>3</th>\n",
       "      <td>0</td>\n",
       "      <td>1</td>\n",
       "      <td>Mixed</td>\n",
       "      <td>True</td>\n",
       "      <td>[2]-I chose explanation 2 because it provides ...</td>\n",
       "    </tr>\n",
       "    <tr>\n",
       "      <th>4</th>\n",
       "      <td>0</td>\n",
       "      <td>1</td>\n",
       "      <td>With</td>\n",
       "      <td>True</td>\n",
       "      <td>[2]-I chose explanation 2 because it provides ...</td>\n",
       "    </tr>\n",
       "  </tbody>\n",
       "</table>\n",
       "</div>"
      ],
      "text/plain": [
       "   Unnamed: 0  stimulus_number condition  good_first  \\\n",
       "0           0                2      With        True   \n",
       "1           0                1   Without       False   \n",
       "2           0                2      With        True   \n",
       "3           0                1     Mixed        True   \n",
       "4           0                1      With        True   \n",
       "\n",
       "                                              answer  \n",
       "0  [1]-I choose explanation 1 because it provides...  \n",
       "1  [2]-I chose explanation 2 because it seems mor...  \n",
       "2  [1]-I choose explanation 1 because it provides...  \n",
       "3  [2]-I chose explanation 2 because it provides ...  \n",
       "4  [2]-I chose explanation 2 because it provides ...  "
      ]
     },
     "execution_count": 5,
     "metadata": {},
     "output_type": "execute_result"
    }
   ],
   "source": [
    "#read data\n",
    "df = pd.read_csv('NeuroExp2_Pilot.csv')\n",
    "df.shape\n",
    "df.head()"
   ]
  },
  {
   "cell_type": "code",
   "execution_count": 3,
   "metadata": {},
   "outputs": [
    {
     "name": "stdout",
     "output_type": "stream",
     "text": [
      "With       12\n",
      "Without    10\n",
      "Mixed       8\n",
      "Name: condition, dtype: int64\n",
      "1    14\n",
      "2     9\n",
      "0     7\n",
      "Name: stimulus_number, dtype: int64\n",
      "True     21\n",
      "False     9\n",
      "Name: good_first, dtype: int64\n"
     ]
    }
   ],
   "source": [
    "#get the value count of the different conditions\n",
    "print(df['condition'].value_counts())\n",
    "#get value counts of stimulous\n",
    "print(df['stimulus_number'].value_counts())\n",
    "#get value counts of answer good\n",
    "print(df['good_first'].value_counts())"
   ]
  },
  {
   "attachments": {},
   "cell_type": "markdown",
   "metadata": {},
   "source": [
    "Looks good so far. Next, let's clean the data. "
   ]
  },
  {
   "cell_type": "code",
   "execution_count": 17,
   "metadata": {},
   "outputs": [
    {
     "data": {
      "text/html": [
       "<div>\n",
       "<style scoped>\n",
       "    .dataframe tbody tr th:only-of-type {\n",
       "        vertical-align: middle;\n",
       "    }\n",
       "\n",
       "    .dataframe tbody tr th {\n",
       "        vertical-align: top;\n",
       "    }\n",
       "\n",
       "    .dataframe thead th {\n",
       "        text-align: right;\n",
       "    }\n",
       "</style>\n",
       "<table border=\"1\" class=\"dataframe\">\n",
       "  <thead>\n",
       "    <tr style=\"text-align: right;\">\n",
       "      <th></th>\n",
       "      <th>answer</th>\n",
       "      <th>good_first</th>\n",
       "      <th>rating</th>\n",
       "      <th>explanation_choice</th>\n",
       "      <th>good_first_int</th>\n",
       "      <th>condition_num</th>\n",
       "      <th>good_choice</th>\n",
       "      <th>good_choice_int</th>\n",
       "      <th>condition_Mixed</th>\n",
       "      <th>condition_With</th>\n",
       "      <th>condition_Without</th>\n",
       "      <th>stimulus_number_0</th>\n",
       "      <th>stimulus_number_1</th>\n",
       "      <th>stimulus_number_2</th>\n",
       "    </tr>\n",
       "  </thead>\n",
       "  <tbody>\n",
       "    <tr>\n",
       "      <th>0</th>\n",
       "      <td>[1]-I choose explanation 1 because it provides...</td>\n",
       "      <td>True</td>\n",
       "      <td>1</td>\n",
       "      <td>I choose explanation 1 because it provides a p...</td>\n",
       "      <td>1</td>\n",
       "      <td>1</td>\n",
       "      <td>True</td>\n",
       "      <td>1</td>\n",
       "      <td>0</td>\n",
       "      <td>1</td>\n",
       "      <td>0</td>\n",
       "      <td>0</td>\n",
       "      <td>0</td>\n",
       "      <td>1</td>\n",
       "    </tr>\n",
       "    <tr>\n",
       "      <th>1</th>\n",
       "      <td>[2]-I chose explanation 2 because it seems mor...</td>\n",
       "      <td>False</td>\n",
       "      <td>2</td>\n",
       "      <td>I chose explanation 2 because it seems more pl...</td>\n",
       "      <td>0</td>\n",
       "      <td>0</td>\n",
       "      <td>True</td>\n",
       "      <td>1</td>\n",
       "      <td>0</td>\n",
       "      <td>0</td>\n",
       "      <td>1</td>\n",
       "      <td>0</td>\n",
       "      <td>1</td>\n",
       "      <td>0</td>\n",
       "    </tr>\n",
       "    <tr>\n",
       "      <th>2</th>\n",
       "      <td>[1]-I choose explanation 1 because it provides...</td>\n",
       "      <td>True</td>\n",
       "      <td>1</td>\n",
       "      <td>I choose explanation 1 because it provides a c...</td>\n",
       "      <td>1</td>\n",
       "      <td>1</td>\n",
       "      <td>True</td>\n",
       "      <td>1</td>\n",
       "      <td>0</td>\n",
       "      <td>1</td>\n",
       "      <td>0</td>\n",
       "      <td>0</td>\n",
       "      <td>0</td>\n",
       "      <td>1</td>\n",
       "    </tr>\n",
       "    <tr>\n",
       "      <th>3</th>\n",
       "      <td>[2]-I chose explanation 2 because it provides ...</td>\n",
       "      <td>True</td>\n",
       "      <td>2</td>\n",
       "      <td>I chose explanation 2 because it provides a mo...</td>\n",
       "      <td>1</td>\n",
       "      <td>2</td>\n",
       "      <td>False</td>\n",
       "      <td>0</td>\n",
       "      <td>1</td>\n",
       "      <td>0</td>\n",
       "      <td>0</td>\n",
       "      <td>0</td>\n",
       "      <td>1</td>\n",
       "      <td>0</td>\n",
       "    </tr>\n",
       "    <tr>\n",
       "      <th>4</th>\n",
       "      <td>[2]-I chose explanation 2 because it provides ...</td>\n",
       "      <td>True</td>\n",
       "      <td>2</td>\n",
       "      <td>I chose explanation 2 because it provides a cl...</td>\n",
       "      <td>1</td>\n",
       "      <td>1</td>\n",
       "      <td>False</td>\n",
       "      <td>0</td>\n",
       "      <td>0</td>\n",
       "      <td>1</td>\n",
       "      <td>0</td>\n",
       "      <td>0</td>\n",
       "      <td>1</td>\n",
       "      <td>0</td>\n",
       "    </tr>\n",
       "  </tbody>\n",
       "</table>\n",
       "</div>"
      ],
      "text/plain": [
       "                                              answer  good_first  rating  \\\n",
       "0  [1]-I choose explanation 1 because it provides...        True       1   \n",
       "1  [2]-I chose explanation 2 because it seems mor...       False       2   \n",
       "2  [1]-I choose explanation 1 because it provides...        True       1   \n",
       "3  [2]-I chose explanation 2 because it provides ...        True       2   \n",
       "4  [2]-I chose explanation 2 because it provides ...        True       2   \n",
       "\n",
       "                                  explanation_choice  good_first_int  \\\n",
       "0  I choose explanation 1 because it provides a p...               1   \n",
       "1  I chose explanation 2 because it seems more pl...               0   \n",
       "2  I choose explanation 1 because it provides a c...               1   \n",
       "3  I chose explanation 2 because it provides a mo...               1   \n",
       "4  I chose explanation 2 because it provides a cl...               1   \n",
       "\n",
       "   condition_num  good_choice  good_choice_int  condition_Mixed  \\\n",
       "0              1         True                1                0   \n",
       "1              0         True                1                0   \n",
       "2              1         True                1                0   \n",
       "3              2        False                0                1   \n",
       "4              1        False                0                0   \n",
       "\n",
       "   condition_With  condition_Without  stimulus_number_0  stimulus_number_1  \\\n",
       "0               1                  0                  0                  0   \n",
       "1               0                  1                  0                  1   \n",
       "2               1                  0                  0                  0   \n",
       "3               0                  0                  0                  1   \n",
       "4               1                  0                  0                  1   \n",
       "\n",
       "   stimulus_number_2  \n",
       "0                  1  \n",
       "1                  0  \n",
       "2                  1  \n",
       "3                  0  \n",
       "4                  0  "
      ]
     },
     "execution_count": 17,
     "metadata": {},
     "output_type": "execute_result"
    }
   ],
   "source": [
    "#only keep columns of interest\n",
    "df = df[['stimulus_number', 'condition', 'answer', 'good_first']]\n",
    "df['rating'] = df['answer'].str.split('-').str[0] #split at - and take first part as number\n",
    "df['rating'] = [re.sub(\"[^0-9-+]\", \"\", df['rating'][i]) for i in range(len(df))] #keep number only\n",
    "df['rating'] = df['rating'].astype(int) #turn to int\n",
    "df['explanation_choice'] = df['answer'].str.split('-').str[1] #split at - and take second part as explanation choice\n",
    "#turn good first numeric\n",
    "df['good_first_int'] = df['good_first'].astype(int)\n",
    "#create nueric version of condition\n",
    "df['condition_num'] = df['condition'].replace({'With': 1, 'Without': 0, 'Mixed': 2})\n",
    "#create variable indicating whether good condition was picked. It is True if the rating is 1 and good_first is true, or if the rating is 2 and good_first is false, otherwise good_condition is false\n",
    "df['good_choice'] = np.where((df['rating'] == 1) & (df['good_first_int'] == 1), True, np.where((df['rating'] == 2) & (df['good_first_int'] == 0), True, False))\n",
    "df['good_choice_int'] = df['good_choice'].astype(int) #turn into numeric as well\n",
    "#create one hot encoded version of condition\n",
    "df_ohe = pd.get_dummies(df, columns = ['condition']) #One hot encode conditions in seperate df\n",
    "df_ohe = pd.get_dummies(df_ohe, columns = ['stimulus_number']) #One hot encode stimulus in seperate df\n",
    "df_ohe.head()\n",
    "\n"
   ]
  },
  {
   "attachments": {},
   "cell_type": "markdown",
   "metadata": {},
   "source": [
    "## Good vs Bad Explanations Overall\n",
    "The first step is to see if there is a difference generally between picking good and bad explanations."
   ]
  },
  {
   "cell_type": "code",
   "execution_count": 11,
   "metadata": {},
   "outputs": [
    {
     "data": {
      "text/plain": [
       "0.7333333333333333"
      ]
     },
     "execution_count": 11,
     "metadata": {},
     "output_type": "execute_result"
    }
   ],
   "source": [
    "#get the proportion of choosing the good explanation overall\n",
    "df['good_choice_int'].mean()"
   ]
  },
  {
   "cell_type": "code",
   "execution_count": 13,
   "metadata": {},
   "outputs": [
    {
     "data": {
      "text/plain": [
       "([<matplotlib.patches.Wedge at 0x7ff43a88e550>,\n",
       "  <matplotlib.patches.Wedge at 0x7ff43a88eb50>],\n",
       " [Text(-0.7360437078139774, 0.8174592712713291, 'Good'),\n",
       "  Text(0.7360437843500347, -0.8174592023579401, 'Bad')],\n",
       " [Text(-0.4014783860803513, 0.44588687523890674, '73.3%'),\n",
       "  Text(0.4014784278272916, -0.4458868376497855, '26.7%')])"
      ]
     },
     "execution_count": 13,
     "metadata": {},
     "output_type": "execute_result"
    },
    {
     "data": {
      "image/png": "[encoded data removed]",
      "text/plain": [
       "<Figure size 640x480 with 1 Axes>"
      ]
     },
     "metadata": {},
     "output_type": "display_data"
    }
   ],
   "source": [
    "#make a pie graph of the choice of good and bad explantion\n",
    "plt.pie(df['good_choice_int'].value_counts(), labels = ['Good', 'Bad'], autopct='%1.1f%%')"
   ]
  },
  {
   "cell_type": "code",
   "execution_count": 12,
   "metadata": {},
   "outputs": [
    {
     "name": "stderr",
     "output_type": "stream",
     "text": [
      "/var/folders/dv/nfxpqfgn50ncwmnyg61n91m80000gn/T/ipykernel_34700/3377329010.py:2: RuntimeWarning: Precision loss occurred in moment calculation due to catastrophic cancellation. This occurs when the data are nearly identical. Results may be unreliable.\n",
      "  ttest_ind(df['good_choice_int'], [0.5]*len(df))\n"
     ]
    },
    {
     "data": {
      "text/plain": [
       "Ttest_indResult(statistic=2.8414544931009598, pvalue=0.006187121107816287)"
      ]
     },
     "execution_count": 12,
     "metadata": {},
     "output_type": "execute_result"
    }
   ],
   "source": [
    "#test whether the good explanation was chosen more often than chance level\n",
    "ttest_ind(df['good_choice_int'], [0.5]*len(df))"
   ]
  },
  {
   "cell_type": "code",
   "execution_count": 54,
   "metadata": {},
   "outputs": [
    {
     "ename": "PerfectSeparationError",
     "evalue": "Perfect separation detected, results not available",
     "output_type": "error",
     "traceback": [
      "\u001b[0;31m---------------------------------------------------------------------------\u001b[0m",
      "\u001b[0;31mPerfectSeparationError\u001b[0m                    Traceback (most recent call last)",
      "\u001b[0;32m/var/folders/dv/nfxpqfgn50ncwmnyg61n91m80000gn/T/ipykernel_34700/1259981457.py\u001b[0m in \u001b[0;36m<module>\u001b[0;34m\u001b[0m\n\u001b[1;32m      3\u001b[0m \u001b[0;31m#add intercept\u001b[0m\u001b[0;34m\u001b[0m\u001b[0;34m\u001b[0m\u001b[0m\n\u001b[1;32m      4\u001b[0m \u001b[0;34m\u001b[0m\u001b[0m\n\u001b[0;32m----> 5\u001b[0;31m \u001b[0mresult\u001b[0m \u001b[0;34m=\u001b[0m \u001b[0mlogit_model\u001b[0m\u001b[0;34m.\u001b[0m\u001b[0mfit\u001b[0m\u001b[0;34m(\u001b[0m\u001b[0;34m)\u001b[0m\u001b[0;34m\u001b[0m\u001b[0;34m\u001b[0m\u001b[0m\n\u001b[0m\u001b[1;32m      6\u001b[0m \u001b[0mprint\u001b[0m\u001b[0;34m(\u001b[0m\u001b[0mresult\u001b[0m\u001b[0;34m.\u001b[0m\u001b[0msummary2\u001b[0m\u001b[0;34m(\u001b[0m\u001b[0;34m)\u001b[0m\u001b[0;34m)\u001b[0m\u001b[0;34m\u001b[0m\u001b[0;34m\u001b[0m\u001b[0m\n",
      "\u001b[0;32m~/opt/anaconda3/lib/python3.9/site-packages/statsmodels/discrete/discrete_model.py\u001b[0m in \u001b[0;36mfit\u001b[0;34m(self, start_params, method, maxiter, full_output, disp, callback, **kwargs)\u001b[0m\n\u001b[1;32m   1981\u001b[0m     def fit(self, start_params=None, method='newton', maxiter=35,\n\u001b[1;32m   1982\u001b[0m             full_output=1, disp=1, callback=None, **kwargs):\n\u001b[0;32m-> 1983\u001b[0;31m         bnryfit = super().fit(start_params=start_params,\n\u001b[0m\u001b[1;32m   1984\u001b[0m                               \u001b[0mmethod\u001b[0m\u001b[0;34m=\u001b[0m\u001b[0mmethod\u001b[0m\u001b[0;34m,\u001b[0m\u001b[0;34m\u001b[0m\u001b[0;34m\u001b[0m\u001b[0m\n\u001b[1;32m   1985\u001b[0m                               \u001b[0mmaxiter\u001b[0m\u001b[0;34m=\u001b[0m\u001b[0mmaxiter\u001b[0m\u001b[0;34m,\u001b[0m\u001b[0;34m\u001b[0m\u001b[0;34m\u001b[0m\u001b[0m\n",
      "\u001b[0;32m~/opt/anaconda3/lib/python3.9/site-packages/statsmodels/discrete/discrete_model.py\u001b[0m in \u001b[0;36mfit\u001b[0;34m(self, start_params, method, maxiter, full_output, disp, callback, **kwargs)\u001b[0m\n\u001b[1;32m    228\u001b[0m             \u001b[0;32mpass\u001b[0m  \u001b[0;31m# TODO: make a function factory to have multiple call-backs\u001b[0m\u001b[0;34m\u001b[0m\u001b[0;34m\u001b[0m\u001b[0m\n\u001b[1;32m    229\u001b[0m \u001b[0;34m\u001b[0m\u001b[0m\n\u001b[0;32m--> 230\u001b[0;31m         mlefit = super().fit(start_params=start_params,\n\u001b[0m\u001b[1;32m    231\u001b[0m                              \u001b[0mmethod\u001b[0m\u001b[0;34m=\u001b[0m\u001b[0mmethod\u001b[0m\u001b[0;34m,\u001b[0m\u001b[0;34m\u001b[0m\u001b[0;34m\u001b[0m\u001b[0m\n\u001b[1;32m    232\u001b[0m                              \u001b[0mmaxiter\u001b[0m\u001b[0;34m=\u001b[0m\u001b[0mmaxiter\u001b[0m\u001b[0;34m,\u001b[0m\u001b[0;34m\u001b[0m\u001b[0;34m\u001b[0m\u001b[0m\n",
      "\u001b[0;32m~/opt/anaconda3/lib/python3.9/site-packages/statsmodels/base/model.py\u001b[0m in \u001b[0;36mfit\u001b[0;34m(self, start_params, method, maxiter, full_output, disp, fargs, callback, retall, skip_hessian, **kwargs)\u001b[0m\n\u001b[1;32m    561\u001b[0m \u001b[0;34m\u001b[0m\u001b[0m\n\u001b[1;32m    562\u001b[0m         \u001b[0moptimizer\u001b[0m \u001b[0;34m=\u001b[0m \u001b[0mOptimizer\u001b[0m\u001b[0;34m(\u001b[0m\u001b[0;34m)\u001b[0m\u001b[0;34m\u001b[0m\u001b[0;34m\u001b[0m\u001b[0m\n\u001b[0;32m--> 563\u001b[0;31m         xopt, retvals, optim_settings = optimizer._fit(f, score, start_params,\n\u001b[0m\u001b[1;32m    564\u001b[0m                                                        \u001b[0mfargs\u001b[0m\u001b[0;34m,\u001b[0m \u001b[0mkwargs\u001b[0m\u001b[0;34m,\u001b[0m\u001b[0;34m\u001b[0m\u001b[0;34m\u001b[0m\u001b[0m\n\u001b[1;32m    565\u001b[0m                                                        \u001b[0mhessian\u001b[0m\u001b[0;34m=\u001b[0m\u001b[0mhess\u001b[0m\u001b[0;34m,\u001b[0m\u001b[0;34m\u001b[0m\u001b[0;34m\u001b[0m\u001b[0m\n",
      "\u001b[0;32m~/opt/anaconda3/lib/python3.9/site-packages/statsmodels/base/optimizer.py\u001b[0m in \u001b[0;36m_fit\u001b[0;34m(self, objective, gradient, start_params, fargs, kwargs, hessian, method, maxiter, full_output, disp, callback, retall)\u001b[0m\n\u001b[1;32m    239\u001b[0m \u001b[0;34m\u001b[0m\u001b[0m\n\u001b[1;32m    240\u001b[0m         \u001b[0mfunc\u001b[0m \u001b[0;34m=\u001b[0m \u001b[0mfit_funcs\u001b[0m\u001b[0;34m[\u001b[0m\u001b[0mmethod\u001b[0m\u001b[0;34m]\u001b[0m\u001b[0;34m\u001b[0m\u001b[0;34m\u001b[0m\u001b[0m\n\u001b[0;32m--> 241\u001b[0;31m         xopt, retvals = func(objective, gradient, start_params, fargs, kwargs,\n\u001b[0m\u001b[1;32m    242\u001b[0m                              \u001b[0mdisp\u001b[0m\u001b[0;34m=\u001b[0m\u001b[0mdisp\u001b[0m\u001b[0;34m,\u001b[0m \u001b[0mmaxiter\u001b[0m\u001b[0;34m=\u001b[0m\u001b[0mmaxiter\u001b[0m\u001b[0;34m,\u001b[0m \u001b[0mcallback\u001b[0m\u001b[0;34m=\u001b[0m\u001b[0mcallback\u001b[0m\u001b[0;34m,\u001b[0m\u001b[0;34m\u001b[0m\u001b[0;34m\u001b[0m\u001b[0m\n\u001b[1;32m    243\u001b[0m                              \u001b[0mretall\u001b[0m\u001b[0;34m=\u001b[0m\u001b[0mretall\u001b[0m\u001b[0;34m,\u001b[0m \u001b[0mfull_output\u001b[0m\u001b[0;34m=\u001b[0m\u001b[0mfull_output\u001b[0m\u001b[0;34m,\u001b[0m\u001b[0;34m\u001b[0m\u001b[0;34m\u001b[0m\u001b[0m\n",
      "\u001b[0;32m~/opt/anaconda3/lib/python3.9/site-packages/statsmodels/base/optimizer.py\u001b[0m in \u001b[0;36m_fit_newton\u001b[0;34m(f, score, start_params, fargs, kwargs, disp, maxiter, callback, retall, full_output, hess, ridge_factor)\u001b[0m\n\u001b[1;32m    441\u001b[0m             \u001b[0mhistory\u001b[0m\u001b[0;34m.\u001b[0m\u001b[0mappend\u001b[0m\u001b[0;34m(\u001b[0m\u001b[0mnewparams\u001b[0m\u001b[0;34m)\u001b[0m\u001b[0;34m\u001b[0m\u001b[0;34m\u001b[0m\u001b[0m\n\u001b[1;32m    442\u001b[0m         \u001b[0;32mif\u001b[0m \u001b[0mcallback\u001b[0m \u001b[0;32mis\u001b[0m \u001b[0;32mnot\u001b[0m \u001b[0;32mNone\u001b[0m\u001b[0;34m:\u001b[0m\u001b[0;34m\u001b[0m\u001b[0;34m\u001b[0m\u001b[0m\n\u001b[0;32m--> 443\u001b[0;31m             \u001b[0mcallback\u001b[0m\u001b[0;34m(\u001b[0m\u001b[0mnewparams\u001b[0m\u001b[0;34m)\u001b[0m\u001b[0;34m\u001b[0m\u001b[0;34m\u001b[0m\u001b[0m\n\u001b[0m\u001b[1;32m    444\u001b[0m         \u001b[0miterations\u001b[0m \u001b[0;34m+=\u001b[0m \u001b[0;36m1\u001b[0m\u001b[0;34m\u001b[0m\u001b[0;34m\u001b[0m\u001b[0m\n\u001b[1;32m    445\u001b[0m     \u001b[0mfval\u001b[0m \u001b[0;34m=\u001b[0m \u001b[0mf\u001b[0m\u001b[0;34m(\u001b[0m\u001b[0mnewparams\u001b[0m\u001b[0;34m,\u001b[0m \u001b[0;34m*\u001b[0m\u001b[0mfargs\u001b[0m\u001b[0;34m)\u001b[0m  \u001b[0;31m# this is the negative likelihood\u001b[0m\u001b[0;34m\u001b[0m\u001b[0;34m\u001b[0m\u001b[0m\n",
      "\u001b[0;32m~/opt/anaconda3/lib/python3.9/site-packages/statsmodels/discrete/discrete_model.py\u001b[0m in \u001b[0;36m_check_perfect_pred\u001b[0;34m(self, params, *args)\u001b[0m\n\u001b[1;32m    212\u001b[0m                 np.allclose(fittedvalues - endog, 0)):\n\u001b[1;32m    213\u001b[0m             \u001b[0mmsg\u001b[0m \u001b[0;34m=\u001b[0m \u001b[0;34m\"Perfect separation detected, results not available\"\u001b[0m\u001b[0;34m\u001b[0m\u001b[0;34m\u001b[0m\u001b[0m\n\u001b[0;32m--> 214\u001b[0;31m             \u001b[0;32mraise\u001b[0m \u001b[0mPerfectSeparationError\u001b[0m\u001b[0;34m(\u001b[0m\u001b[0mmsg\u001b[0m\u001b[0;34m)\u001b[0m\u001b[0;34m\u001b[0m\u001b[0;34m\u001b[0m\u001b[0m\n\u001b[0m\u001b[1;32m    215\u001b[0m \u001b[0;34m\u001b[0m\u001b[0m\n\u001b[1;32m    216\u001b[0m     \u001b[0;34m@\u001b[0m\u001b[0mAppender\u001b[0m\u001b[0;34m(\u001b[0m\u001b[0mbase\u001b[0m\u001b[0;34m.\u001b[0m\u001b[0mLikelihoodModel\u001b[0m\u001b[0;34m.\u001b[0m\u001b[0mfit\u001b[0m\u001b[0;34m.\u001b[0m\u001b[0m__doc__\u001b[0m\u001b[0;34m)\u001b[0m\u001b[0;34m\u001b[0m\u001b[0;34m\u001b[0m\u001b[0m\n",
      "\u001b[0;31mPerfectSeparationError\u001b[0m: Perfect separation detected, results not available"
     ]
    }
   ],
   "source": [
    "#run a logistic regression with condition as predictor and whether the participant picked the good answer as outcome, also add whether they saw the good explanation first as predictor\n",
    "logit_model = sm.Logit(df_ohe['good_choice_int'], sm.add_constant(df_ohe[['condition_With', 'condition_Without', 'stimulus_number_0', 'stimulus_number_1', 'good_first_int']])) #reference: Mixed and stim 2\n",
    "#without int: logit_model = sm.Logit(df_ohe['good_choice_int'], df_ohe[['condition_With', 'condition_Without', 'stimulus_number_0', 'stimulus_number_1', 'good_first_int']]) #reference: Mixed and stim 2\n",
    "\n",
    "\n",
    "result = logit_model.fit()\n",
    "print(result.summary2())"
   ]
  },
  {
   "attachments": {},
   "cell_type": "markdown",
   "metadata": {},
   "source": [
    "## The Conditions\n",
    "Here I compare the proportions of choosing the good or bad explanations per condition."
   ]
  },
  {
   "cell_type": "code",
   "execution_count": 19,
   "metadata": {},
   "outputs": [
    {
     "name": "stdout",
     "output_type": "stream",
     "text": [
      "0.6666666666666666 1.0 0.5\n"
     ]
    }
   ],
   "source": [
    "#compare three proportions of choosing the good explanation\n",
    "prop_with = df[df['condition'] == 'With']['good_choice_int'].mean()\n",
    "prop_without = df[df['condition'] == 'Without']['good_choice_int'].mean()\n",
    "prop_mixed = df[df['condition'] == 'Mixed']['good_choice_int'].mean()\n",
    "print(prop_with, prop_without, prop_mixed)"
   ]
  },
  {
   "cell_type": "code",
   "execution_count": 34,
   "metadata": {},
   "outputs": [
    {
     "data": {
      "text/plain": [
       "Text(1, 1.05, '1.0')"
      ]
     },
     "execution_count": 34,
     "metadata": {},
     "output_type": "execute_result"
    },
    {
     "data": {
      "image/png": "[encoded data removed]",
      "text/plain": [
       "<Figure size 640x480 with 1 Axes>"
      ]
     },
     "metadata": {},
     "output_type": "display_data"
    }
   ],
   "source": [
    "#make three plots\n",
    "sns.barplot(x = 'condition', y = 'good_choice_int', data = df, ci= None)\n",
    "#add x and y axis labels\n",
    "plt.xlabel('Condition')\n",
    "plt.ylabel('Proportion of choosing good explanation')\n",
    "#add numeric values to top of bar\n",
    "plt.text(x = 0, y = df[df['condition_num'] == 1]['good_choice_int'].mean() + 0.05, s = round(df[df['condition_num'] == 1]['good_choice_int'].mean(), 2), size = 12, ha = 'center')\n",
    "plt.text(x = 2, y = df[df['condition_num'] == 2]['good_choice_int'].mean() + 0.05, s = round(df[df['condition_num'] == 2]['good_choice_int'].mean(), 2), size = 12, ha = 'center')\n",
    "plt.text(x = 1, y = df[df['condition_num'] == 0]['good_choice_int'].mean() + 0.05, s = round(df[df['condition_num'] == 0]['good_choice_int'].mean(), 2), size = 12, ha = 'center')"
   ]
  },
  {
   "cell_type": "code",
   "execution_count": 51,
   "metadata": {},
   "outputs": [
    {
     "name": "stdout",
     "output_type": "stream",
     "text": [
      "-----Overall-----\n",
      "Chi-square statistic: 6.136363636363636\n",
      "DF: 2\n",
      "p-value: 0.046505633732877326\n",
      "-----With vs Without-----\n",
      "Chi-square statistic: 2.1414351851851854\n",
      "DF: 1\n",
      "p-value: 0.14336771150104505\n",
      "-----With vs Mixed-----\n",
      "Chi-square statistic: 0.0781249999999999\n",
      "DF: 1\n",
      "p-value: 0.7798546179649193\n",
      "-----Mixed vs Without-----\n",
      "Chi-square statistic: 3.861160714285715\n",
      "DF: 1\n",
      "p-value: 0.049416130831850584\n"
     ]
    }
   ],
   "source": [
    "#compare proportions \n",
    "#non-parametric (Chi-square)\n",
    "from scipy.stats import chi2_contingency\n",
    "#make contingency table\n",
    "contingency_table = pd.crosstab(df['condition'], df['good_choice_int'])\n",
    "#do chi-square test\n",
    "c, p, dof, expected = chi2_contingency(contingency_table) \n",
    "\n",
    "print('-----Overall-----')\n",
    "print(\"Chi-square statistic:\", c)\n",
    "print(\"DF:\", dof)\n",
    "print(\"p-value:\", p)\n",
    "\n",
    "#do the same with with vs without\n",
    "df_subset = df[df['condition'] != 'Mixed']\n",
    "contingency_table = pd.crosstab(df_subset['condition'], df_subset['good_choice_int'])\n",
    "#do chi-square test\n",
    "c, p, dof, expected = chi2_contingency(contingency_table) \n",
    "\n",
    "print('-----With vs Without-----')\n",
    "print(\"Chi-square statistic:\", c)\n",
    "print(\"DF:\", dof)\n",
    "print(\"p-value:\", p)\n",
    "\n",
    "#do the same with with vs mixed\n",
    "df_subset = df[df['condition'] != 'Without']\n",
    "contingency_table = pd.crosstab(df_subset['condition'], df_subset['good_choice_int'])\n",
    "#do chi-square test\n",
    "c, p, dof, expected = chi2_contingency(contingency_table) \n",
    "\n",
    "print('-----With vs Mixed-----')\n",
    "print(\"Chi-square statistic:\", c)\n",
    "print(\"DF:\", dof)\n",
    "print(\"p-value:\", p)\n",
    "\n",
    "#do the same with Mixed vs without\n",
    "df_subset = df[df['condition'] != 'With']\n",
    "contingency_table = pd.crosstab(df_subset['condition'], df_subset['good_choice_int'])\n",
    "#do chi-square test\n",
    "c, p, dof, expected = chi2_contingency(contingency_table) \n",
    "\n",
    "print('-----Mixed vs Without-----')\n",
    "print(\"Chi-square statistic:\", c)\n",
    "print(\"DF:\", dof)\n",
    "print(\"p-value:\", p)\n",
    "\n",
    "\n",
    "\n"
   ]
  },
  {
   "attachments": {},
   "cell_type": "markdown",
   "metadata": {},
   "source": [
    "Potential Issue with One way anova: \n",
    "A one-way ANOVA may not be the best statistical test to use for comparing proportions between three conditions because ANOVA assumes that the data is normally distributed and continuous. Proportions, on the other hand, are discrete data and have a specific range of values between 0 and 1.\n",
    "\n",
    "Instead, use chi-square test of independence, and kruskal wallis test to locate the difference if the chi-square test is significant. This is more appropriate than the fishers test for large sample sizes, which we have. "
   ]
  },
  {
   "attachments": {},
   "cell_type": "markdown",
   "metadata": {},
   "source": [
    "## Neuro Science Language in the Response"
   ]
  },
  {
   "cell_type": "code",
   "execution_count": 55,
   "metadata": {},
   "outputs": [
    {
     "name": "stderr",
     "output_type": "stream",
     "text": [
      "/var/folders/dv/nfxpqfgn50ncwmnyg61n91m80000gn/T/ipykernel_34700/1715165750.py:3: SettingWithCopyWarning: \n",
      "A value is trying to be set on a copy of a slice from a DataFrame.\n",
      "Try using .loc[row_indexer,col_indexer] = value instead\n",
      "\n",
      "See the caveats in the documentation: https://pandas.pydata.org/pandas-docs/stable/user_guide/indexing.html#returning-a-view-versus-a-copy\n",
      "  df_subset['neuro_used'] = np.where(df_subset['explanation_choice'].str.contains('brain|lobe|scan|neur|premotor|cortex'), 1, 0)\n"
     ]
    }
   ],
   "source": [
    "df_subset = df[df['condition'] != 'Without'] #create subset of with and mixed condition\n",
    "#create a variable that is 1 if the explanation_choice contains one of the following words: “brain”, “lobe,”, “scan”, “neur*”, “premotor,” “cortex”\n",
    "df_subset['neuro_used'] = np.where(df_subset['explanation_choice'].str.contains('brain|lobe|scan|neur|premotor|cortex'), 1, 0)"
   ]
  },
  {
   "cell_type": "code",
   "execution_count": 58,
   "metadata": {},
   "outputs": [
    {
     "name": "stdout",
     "output_type": "stream",
     "text": [
      "----Overall----\n",
      "0.55\n",
      "----By condition----\n",
      "condition\n",
      "Mixed    0.750000\n",
      "With     0.416667\n",
      "Name: neuro_used, dtype: float64\n",
      "----By choosing good answer----\n",
      "good_choice_int\n",
      "0    0.500000\n",
      "1    0.583333\n",
      "Name: neuro_used, dtype: float64\n",
      "----By condition and choosing good answer----\n",
      "condition  good_choice_int\n",
      "Mixed      0                  1.000\n",
      "           1                  0.500\n",
      "With       0                  0.000\n",
      "           1                  0.625\n",
      "Name: neuro_used, dtype: float64\n"
     ]
    }
   ],
   "source": [
    "#proportion that contains these words\n",
    "print('----Overall----')\n",
    "print(df_subset['neuro_used'].mean())\n",
    "#proportion that contains these words in each condition\n",
    "print('----By condition----')\n",
    "print(df_subset.groupby('condition')['neuro_used'].mean())\n",
    "#proportion that contains these words in for answer good or not\n",
    "print('----By choosing good answer----')\n",
    "print(df_subset.groupby('good_choice_int')['neuro_used'].mean())\n",
    "#proportion by condition and answer\n",
    "print('----By condition and choosing good answer----')\n",
    "print(df_subset.groupby(['condition', 'good_choice_int'])['neuro_used'].mean())"
   ]
  }
 ],
 "metadata": {
  "kernelspec": {
   "display_name": "base",
   "language": "python",
   "name": "python3"
  },
  "language_info": {
   "codemirror_mode": {
    "name": "ipython",
    "version": 3
   },
   "file_extension": ".py",
   "mimetype": "text/x-python",
   "name": "python",
   "nbconvert_exporter": "python",
   "pygments_lexer": "ipython3",
   "version": "3.9.13"
  },
  "orig_nbformat": 4
 },
 "nbformat": 4,
 "nbformat_minor": 2
}
