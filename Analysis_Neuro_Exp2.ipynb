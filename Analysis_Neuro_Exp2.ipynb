{
 "cells": [
  {
   "attachments": {},
   "cell_type": "markdown",
   "metadata": {},
   "source": [
    "# Analysis of Experiment 2 (Neuroscience)\n",
    "In this notebook I will walk through the analysis I did for the second Experiment. There are 4 major sections:\n",
    "* Preperation and First Look\n",
    "* Good vs Bad Explanations Overall\n",
    "* The Conditions\n",
    "* Neuro Science Language in the Response"
   ]
  },
  {
   "attachments": {},
   "cell_type": "markdown",
   "metadata": {},
   "source": [
    "## Preperation and First Look"
   ]
  },
  {
   "cell_type": "code",
   "execution_count": 1,
   "metadata": {},
   "outputs": [],
   "source": [
    "#Modules\n",
    "import pandas as pd\n",
    "import numpy as np\n",
    "import matplotlib.pyplot as plt\n",
    "import seaborn as sns\n",
    "import statsmodels.api as sm\n",
    "from statsmodels.formula.api import ols\n",
    "from scipy.stats import ttest_ind\n",
    "from utils_openAI import *"
   ]
  },
  {
   "cell_type": "code",
   "execution_count": 2,
   "metadata": {},
   "outputs": [
    {
     "data": {
      "text/html": [
       "<div>\n",
       "<style scoped>\n",
       "    .dataframe tbody tr th:only-of-type {\n",
       "        vertical-align: middle;\n",
       "    }\n",
       "\n",
       "    .dataframe tbody tr th {\n",
       "        vertical-align: top;\n",
       "    }\n",
       "\n",
       "    .dataframe thead th {\n",
       "        text-align: right;\n",
       "    }\n",
       "</style>\n",
       "<table border=\"1\" class=\"dataframe\">\n",
       "  <thead>\n",
       "    <tr style=\"text-align: right;\">\n",
       "      <th></th>\n",
       "      <th>Unnamed: 0.1</th>\n",
       "      <th>Unnamed: 0</th>\n",
       "      <th>stimulus_number</th>\n",
       "      <th>condition</th>\n",
       "      <th>good_first</th>\n",
       "      <th>answer</th>\n",
       "    </tr>\n",
       "  </thead>\n",
       "  <tbody>\n",
       "    <tr>\n",
       "      <th>0</th>\n",
       "      <td>0</td>\n",
       "      <td>0</td>\n",
       "      <td>2</td>\n",
       "      <td>With</td>\n",
       "      <td>False</td>\n",
       "      <td>[2]-I choose explanation 2 because it provides...</td>\n",
       "    </tr>\n",
       "    <tr>\n",
       "      <th>1</th>\n",
       "      <td>1</td>\n",
       "      <td>0</td>\n",
       "      <td>2</td>\n",
       "      <td>Mixed</td>\n",
       "      <td>False</td>\n",
       "      <td>[2]-I chose explanation 2 because it provides ...</td>\n",
       "    </tr>\n",
       "    <tr>\n",
       "      <th>2</th>\n",
       "      <td>2</td>\n",
       "      <td>0</td>\n",
       "      <td>1</td>\n",
       "      <td>Without</td>\n",
       "      <td>False</td>\n",
       "      <td>[2]-I chose explanation 2 because it seems mor...</td>\n",
       "    </tr>\n",
       "    <tr>\n",
       "      <th>3</th>\n",
       "      <td>3</td>\n",
       "      <td>0</td>\n",
       "      <td>0</td>\n",
       "      <td>With</td>\n",
       "      <td>False</td>\n",
       "      <td>[2]-I chose this explanation because it makes ...</td>\n",
       "    </tr>\n",
       "    <tr>\n",
       "      <th>4</th>\n",
       "      <td>4</td>\n",
       "      <td>0</td>\n",
       "      <td>0</td>\n",
       "      <td>Mixed</td>\n",
       "      <td>False</td>\n",
       "      <td>[2]-I chose explanation 2 because it seems mor...</td>\n",
       "    </tr>\n",
       "  </tbody>\n",
       "</table>\n",
       "</div>"
      ],
      "text/plain": [
       "   Unnamed: 0.1  Unnamed: 0  stimulus_number condition  good_first  \\\n",
       "0             0           0                2      With       False   \n",
       "1             1           0                2     Mixed       False   \n",
       "2             2           0                1   Without       False   \n",
       "3             3           0                0      With       False   \n",
       "4             4           0                0     Mixed       False   \n",
       "\n",
       "                                              answer  \n",
       "0  [2]-I choose explanation 2 because it provides...  \n",
       "1  [2]-I chose explanation 2 because it provides ...  \n",
       "2  [2]-I chose explanation 2 because it seems mor...  \n",
       "3  [2]-I chose this explanation because it makes ...  \n",
       "4  [2]-I chose explanation 2 because it seems mor...  "
      ]
     },
     "execution_count": 2,
     "metadata": {},
     "output_type": "execute_result"
    }
   ],
   "source": [
    "#read data\n",
    "df = pd.read_csv('NeuroExp2.csv')\n",
    "df.shape\n",
    "df.head()"
   ]
  },
  {
   "cell_type": "code",
   "execution_count": 3,
   "metadata": {},
   "outputs": [
    {
     "name": "stdout",
     "output_type": "stream",
     "text": [
      "With       136\n",
      "Mixed      136\n",
      "Without    128\n",
      "Name: condition, dtype: int64\n",
      "2    140\n",
      "1    134\n",
      "0    126\n",
      "Name: stimulus_number, dtype: int64\n",
      "False    219\n",
      "True     181\n",
      "Name: good_first, dtype: int64\n"
     ]
    }
   ],
   "source": [
    "#get the value count of the different conditions\n",
    "print(df['condition'].value_counts())\n",
    "#get value counts of stimulous\n",
    "print(df['stimulus_number'].value_counts())\n",
    "#get value counts of answer good\n",
    "print(df['good_first'].value_counts())"
   ]
  },
  {
   "attachments": {},
   "cell_type": "markdown",
   "metadata": {},
   "source": [
    "Looks good so far. Next, let's clean the data. "
   ]
  },
  {
   "cell_type": "code",
   "execution_count": 4,
   "metadata": {},
   "outputs": [
    {
     "data": {
      "text/html": [
       "<div>\n",
       "<style scoped>\n",
       "    .dataframe tbody tr th:only-of-type {\n",
       "        vertical-align: middle;\n",
       "    }\n",
       "\n",
       "    .dataframe tbody tr th {\n",
       "        vertical-align: top;\n",
       "    }\n",
       "\n",
       "    .dataframe thead th {\n",
       "        text-align: right;\n",
       "    }\n",
       "</style>\n",
       "<table border=\"1\" class=\"dataframe\">\n",
       "  <thead>\n",
       "    <tr style=\"text-align: right;\">\n",
       "      <th></th>\n",
       "      <th>answer</th>\n",
       "      <th>good_first</th>\n",
       "      <th>rating</th>\n",
       "      <th>explanation_choice</th>\n",
       "      <th>good_first_int</th>\n",
       "      <th>condition_num</th>\n",
       "      <th>good_choice</th>\n",
       "      <th>good_choice_int</th>\n",
       "      <th>condition_Mixed</th>\n",
       "      <th>condition_With</th>\n",
       "      <th>condition_Without</th>\n",
       "      <th>stimulus_number_0</th>\n",
       "      <th>stimulus_number_1</th>\n",
       "      <th>stimulus_number_2</th>\n",
       "    </tr>\n",
       "  </thead>\n",
       "  <tbody>\n",
       "    <tr>\n",
       "      <th>0</th>\n",
       "      <td>[2]-I choose explanation 2 because it provides...</td>\n",
       "      <td>False</td>\n",
       "      <td>2</td>\n",
       "      <td>I choose explanation 2 because it provides a c...</td>\n",
       "      <td>0</td>\n",
       "      <td>1</td>\n",
       "      <td>True</td>\n",
       "      <td>1</td>\n",
       "      <td>0</td>\n",
       "      <td>1</td>\n",
       "      <td>0</td>\n",
       "      <td>0</td>\n",
       "      <td>0</td>\n",
       "      <td>1</td>\n",
       "    </tr>\n",
       "    <tr>\n",
       "      <th>1</th>\n",
       "      <td>[2]-I chose explanation 2 because it provides ...</td>\n",
       "      <td>False</td>\n",
       "      <td>2</td>\n",
       "      <td>I chose explanation 2 because it provides a cl...</td>\n",
       "      <td>0</td>\n",
       "      <td>2</td>\n",
       "      <td>True</td>\n",
       "      <td>1</td>\n",
       "      <td>1</td>\n",
       "      <td>0</td>\n",
       "      <td>0</td>\n",
       "      <td>0</td>\n",
       "      <td>0</td>\n",
       "      <td>1</td>\n",
       "    </tr>\n",
       "    <tr>\n",
       "      <th>2</th>\n",
       "      <td>[2]-I chose explanation 2 because it seems mor...</td>\n",
       "      <td>False</td>\n",
       "      <td>2</td>\n",
       "      <td>I chose explanation 2 because it seems more pl...</td>\n",
       "      <td>0</td>\n",
       "      <td>0</td>\n",
       "      <td>True</td>\n",
       "      <td>1</td>\n",
       "      <td>0</td>\n",
       "      <td>0</td>\n",
       "      <td>1</td>\n",
       "      <td>0</td>\n",
       "      <td>1</td>\n",
       "      <td>0</td>\n",
       "    </tr>\n",
       "    <tr>\n",
       "      <th>3</th>\n",
       "      <td>[2]-I chose this explanation because it makes ...</td>\n",
       "      <td>False</td>\n",
       "      <td>2</td>\n",
       "      <td>I chose this explanation because it makes more...</td>\n",
       "      <td>0</td>\n",
       "      <td>1</td>\n",
       "      <td>True</td>\n",
       "      <td>1</td>\n",
       "      <td>0</td>\n",
       "      <td>1</td>\n",
       "      <td>0</td>\n",
       "      <td>1</td>\n",
       "      <td>0</td>\n",
       "      <td>0</td>\n",
       "    </tr>\n",
       "    <tr>\n",
       "      <th>4</th>\n",
       "      <td>[2]-I chose explanation 2 because it seems mor...</td>\n",
       "      <td>False</td>\n",
       "      <td>2</td>\n",
       "      <td>I chose explanation 2 because it seems more pl...</td>\n",
       "      <td>0</td>\n",
       "      <td>2</td>\n",
       "      <td>True</td>\n",
       "      <td>1</td>\n",
       "      <td>1</td>\n",
       "      <td>0</td>\n",
       "      <td>0</td>\n",
       "      <td>1</td>\n",
       "      <td>0</td>\n",
       "      <td>0</td>\n",
       "    </tr>\n",
       "  </tbody>\n",
       "</table>\n",
       "</div>"
      ],
      "text/plain": [
       "                                              answer  good_first  rating  \\\n",
       "0  [2]-I choose explanation 2 because it provides...       False       2   \n",
       "1  [2]-I chose explanation 2 because it provides ...       False       2   \n",
       "2  [2]-I chose explanation 2 because it seems mor...       False       2   \n",
       "3  [2]-I chose this explanation because it makes ...       False       2   \n",
       "4  [2]-I chose explanation 2 because it seems mor...       False       2   \n",
       "\n",
       "                                  explanation_choice  good_first_int  \\\n",
       "0  I choose explanation 2 because it provides a c...               0   \n",
       "1  I chose explanation 2 because it provides a cl...               0   \n",
       "2  I chose explanation 2 because it seems more pl...               0   \n",
       "3  I chose this explanation because it makes more...               0   \n",
       "4  I chose explanation 2 because it seems more pl...               0   \n",
       "\n",
       "   condition_num  good_choice  good_choice_int  condition_Mixed  \\\n",
       "0              1         True                1                0   \n",
       "1              2         True                1                1   \n",
       "2              0         True                1                0   \n",
       "3              1         True                1                0   \n",
       "4              2         True                1                1   \n",
       "\n",
       "   condition_With  condition_Without  stimulus_number_0  stimulus_number_1  \\\n",
       "0               1                  0                  0                  0   \n",
       "1               0                  0                  0                  0   \n",
       "2               0                  1                  0                  1   \n",
       "3               1                  0                  1                  0   \n",
       "4               0                  0                  1                  0   \n",
       "\n",
       "   stimulus_number_2  \n",
       "0                  1  \n",
       "1                  1  \n",
       "2                  0  \n",
       "3                  0  \n",
       "4                  0  "
      ]
     },
     "execution_count": 4,
     "metadata": {},
     "output_type": "execute_result"
    }
   ],
   "source": [
    "#only keep columns of interest\n",
    "df = df[['stimulus_number', 'condition', 'answer', 'good_first']]\n",
    "df['rating'] = df['answer'].str.split('-').str[0] #split at - and take first part as number\n",
    "df['rating'] = [re.sub(\"[^0-9-+]\", \"\", df['rating'][i]) for i in range(len(df))] #keep number only\n",
    "df['rating'] = df['rating'].astype(int) #turn to int\n",
    "df['explanation_choice'] = df['answer'].str.split('-').str[1] #split at - and take second part as explanation choice\n",
    "#turn good first numeric\n",
    "df['good_first_int'] = df['good_first'].astype(int)\n",
    "#create nueric version of condition\n",
    "df['condition_num'] = df['condition'].replace({'With': 1, 'Without': 0, 'Mixed': 2})\n",
    "#create variable indicating whether good condition was picked. It is True if the rating is 1 and good_first is true, or if the rating is 2 and good_first is false, otherwise good_condition is false\n",
    "df['good_choice'] = np.where((df['rating'] == 1) & (df['good_first_int'] == 1), True, np.where((df['rating'] == 2) & (df['good_first_int'] == 0), True, False))\n",
    "df['good_choice_int'] = df['good_choice'].astype(int) #turn into numeric as well\n",
    "#create one hot encoded version of condition\n",
    "df_ohe = pd.get_dummies(df, columns = ['condition']) #One hot encode conditions in seperate df\n",
    "df_ohe = pd.get_dummies(df_ohe, columns = ['stimulus_number']) #One hot encode stimulus in seperate df\n",
    "df_ohe.head()\n",
    "\n"
   ]
  },
  {
   "attachments": {},
   "cell_type": "markdown",
   "metadata": {},
   "source": [
    "## Good vs Bad Explanations Overall\n",
    "The first step is to see if there is a difference generally between picking good and bad explanations."
   ]
  },
  {
   "cell_type": "code",
   "execution_count": 5,
   "metadata": {},
   "outputs": [
    {
     "data": {
      "text/plain": [
       "0.915"
      ]
     },
     "execution_count": 5,
     "metadata": {},
     "output_type": "execute_result"
    }
   ],
   "source": [
    "#get the proportion of choosing the good explanation overall\n",
    "df['good_choice_int'].mean()"
   ]
  },
  {
   "cell_type": "code",
   "execution_count": 6,
   "metadata": {},
   "outputs": [
    {
     "data": {
      "text/plain": [
       "([<matplotlib.patches.Wedge at 0x7f82d8014760>,\n",
       "  <matplotlib.patches.Wedge at 0x7f82d8014d60>],\n",
       " [Text(-1.0610131798703932, 0.29026028343767013, 'Good'),\n",
       "  Text(1.0610132002524875, -0.2902602089332524, 'Bad')],\n",
       " [Text(-0.5787344617474872, 0.15832379096600185, '91.5%'),\n",
       "  Text(0.578734472864993, -0.15832375032722854, '8.5%')])"
      ]
     },
     "execution_count": 6,
     "metadata": {},
     "output_type": "execute_result"
    },
    {
     "data": {
      "image/png": "[encoded data removed]",
      "text/plain": [
       "<Figure size 640x480 with 1 Axes>"
      ]
     },
     "metadata": {},
     "output_type": "display_data"
    }
   ],
   "source": [
    "#make a pie graph of the choice of good and bad explantion\n",
    "plt.pie(df['good_choice_int'].value_counts(), labels = ['Good', 'Bad'], autopct='%1.1f%%')"
   ]
  },
  {
   "cell_type": "code",
   "execution_count": 7,
   "metadata": {},
   "outputs": [
    {
     "name": "stderr",
     "output_type": "stream",
     "text": [
      "/var/folders/dv/nfxpqfgn50ncwmnyg61n91m80000gn/T/ipykernel_37443/3377329010.py:2: RuntimeWarning: Precision loss occurred in moment calculation due to catastrophic cancellation. This occurs when the data are nearly identical. Results may be unreliable.\n",
      "  ttest_ind(df['good_choice_int'], [0.5]*len(df))\n"
     ]
    },
    {
     "data": {
      "text/plain": [
       "Ttest_indResult(statistic=29.724498401273802, pvalue=2.700442932760826e-131)"
      ]
     },
     "execution_count": 7,
     "metadata": {},
     "output_type": "execute_result"
    }
   ],
   "source": [
    "#test whether the good explanation was chosen more often than chance level\n",
    "ttest_ind(df['good_choice_int'], [0.5]*len(df))"
   ]
  },
  {
   "cell_type": "code",
   "execution_count": 30,
   "metadata": {},
   "outputs": [
    {
     "name": "stdout",
     "output_type": "stream",
     "text": [
      "Warning: Maximum number of iterations has been exceeded.\n",
      "         Current function value: 0.177125\n",
      "         Iterations: 35\n",
      "                              Results: Logit\n",
      "===========================================================================\n",
      "Model:                  Logit               Pseudo R-squared:    0.391     \n",
      "Dependent Variable:     good_choice_int     AIC:                 149.6997  \n",
      "Date:                   2023-05-03 13:36    BIC:                 165.6655  \n",
      "No. Observations:       400                 Log-Likelihood:      -70.850   \n",
      "Df Model:               3                   LL-Null:             -116.33   \n",
      "Df Residuals:           396                 LLR p-value:         1.3681e-19\n",
      "Converged:              0.0000              Scale:               1.0000    \n",
      "No. Iterations:         35.0000                                            \n",
      "---------------------------------------------------------------------------\n",
      "                   Coef.    Std.Err.     z    P>|z|     [0.025     0.975]  \n",
      "---------------------------------------------------------------------------\n",
      "const              25.5224 27736.7379  0.0009 0.9993 -54337.4850 54388.5298\n",
      "condition_With     -0.0476     0.4066 -0.1171 0.9067     -0.8445     0.7492\n",
      "condition_Without  10.3605    35.6131  0.2909 0.7711    -59.4400    80.1609\n",
      "good_first_int    -24.5944 27736.7379 -0.0009 0.9993 -54387.6018 54338.4130\n",
      "===========================================================================\n",
      "\n",
      "\\begin{table}\n",
      "\\caption{Results: Logit}\n",
      "\\label{}\n",
      "\\begin{center}\n",
      "\\begin{tabular}{llll}\n",
      "\\hline\n",
      "Model:              & Logit             & Pseudo R-squared: & 0.391       \\\\\n",
      "Dependent Variable: & good\\_choice\\_int & AIC:              & 149.6997    \\\\\n",
      "Date:               & 2023-05-03 13:36  & BIC:              & 165.6655    \\\\\n",
      "No. Observations:   & 400               & Log-Likelihood:   & -70.850     \\\\\n",
      "Df Model:           & 3                 & LL-Null:          & -116.33     \\\\\n",
      "Df Residuals:       & 396               & LLR p-value:      & 1.3681e-19  \\\\\n",
      "Converged:          & 0.0000            & Scale:            & 1.0000      \\\\\n",
      "No. Iterations:     & 35.0000           &                   &             \\\\\n",
      "\\hline\n",
      "\\end{tabular}\n",
      "\\end{center}\n",
      "\n",
      "\\begin{center}\n",
      "\\begin{tabular}{lrrrrrr}\n",
      "\\hline\n",
      "                   &    Coef. &   Std.Err. &       z & P$> |$z$|$ &      [0.025 &     0.975]  \\\\\n",
      "\\hline\n",
      "const              &  25.5224 & 27736.7379 &  0.0009 &      0.9993 & -54337.4850 & 54388.5298  \\\\\n",
      "condition\\_With    &  -0.0476 &     0.4066 & -0.1171 &      0.9067 &     -0.8445 &     0.7492  \\\\\n",
      "condition\\_Without &  10.3605 &    35.6131 &  0.2909 &      0.7711 &    -59.4400 &    80.1609  \\\\\n",
      "good\\_first\\_int   & -24.5944 & 27736.7379 & -0.0009 &      0.9993 & -54387.6018 & 54338.4130  \\\\\n",
      "\\hline\n",
      "\\end{tabular}\n",
      "\\end{center}\n",
      "\\end{table}\n"
     ]
    },
    {
     "name": "stderr",
     "output_type": "stream",
     "text": [
      "/Users/tim/opt/anaconda3/lib/python3.9/site-packages/statsmodels/base/model.py:604: ConvergenceWarning: Maximum Likelihood optimization failed to converge. Check mle_retvals\n",
      "  warnings.warn(\"Maximum Likelihood optimization failed to \"\n"
     ]
    }
   ],
   "source": [
    "#run a logistic regression with condition as predictor and whether the participant picked the good answer as outcome, also add whether they saw the good explanation first as predictor\n",
    "#logit_model = sm.Logit(df_ohe['good_choice_int'], sm.add_constant(df_ohe[['condition_With', 'condition_Without', 'stimulus_number_0', 'stimulus_number_1', 'good_first_int']])) #reference: Mixed and stim 2\n",
    "#without int: logit_model = sm.Logit(df_ohe['good_choice_int'], df_ohe[['condition_With', 'condition_Without', 'stimulus_number_0', 'stimulus_number_1', 'good_first_int']]) #reference: Mixed and stim 2\n",
    "logit_model = sm.Logit(df_ohe['good_choice_int'], sm.add_constant(df_ohe[['condition_With', 'condition_Without', 'good_first_int']])) #reference: Mixed and stim 1 (second)\n",
    "\n",
    "\n",
    "result = logit_model.fit()\n",
    "print(result.summary2())\n",
    "#print table as latex code\n",
    "print(result.summary2().as_latex())"
   ]
  },
  {
   "attachments": {},
   "cell_type": "markdown",
   "metadata": {},
   "source": [
    "## The Conditions\n",
    "Here I compare the proportions of choosing the good or bad explanations per condition."
   ]
  },
  {
   "cell_type": "code",
   "execution_count": 9,
   "metadata": {},
   "outputs": [
    {
     "name": "stdout",
     "output_type": "stream",
     "text": [
      "0.875 1.0 0.875\n"
     ]
    }
   ],
   "source": [
    "#compare three proportions of choosing the good explanation\n",
    "prop_with = df[df['condition'] == 'With']['good_choice_int'].mean()\n",
    "prop_without = df[df['condition'] == 'Without']['good_choice_int'].mean()\n",
    "prop_mixed = df[df['condition'] == 'Mixed']['good_choice_int'].mean()\n",
    "print(prop_with, prop_without, prop_mixed)"
   ]
  },
  {
   "cell_type": "code",
   "execution_count": 28,
   "metadata": {},
   "outputs": [
    {
     "data": {
      "image/png": "[encoded data removed]",
      "text/plain": [
       "<Figure size 640x480 with 1 Axes>"
      ]
     },
     "metadata": {},
     "output_type": "display_data"
    }
   ],
   "source": [
    "#make three plots\n",
    "sns.barplot(x = 'condition', y = 'good_choice_int', data = df, ci= None)\n",
    "#add x and y axis labels\n",
    "plt.xlabel('Condition')\n",
    "plt.ylabel('Proportion of choosing good explanation')\n",
    "#add numeric values to top of bar\n",
    "plt.text(x = 0, y = df[df['condition_num'] == 1]['good_choice_int'].mean() + 0.05, s = round(df[df['condition_num'] == 1]['good_choice_int'].mean(), 2), size = 12, ha = 'center')\n",
    "plt.text(x = 1, y = df[df['condition_num'] == 2]['good_choice_int'].mean() + 0.05, s = round(df[df['condition_num'] == 2]['good_choice_int'].mean(), 2), size = 12, ha = 'center')\n",
    "plt.text(x = 2, y = df[df['condition_num'] == 0]['good_choice_int'].mean() + 0.05, s = round(df[df['condition_num'] == 0]['good_choice_int'].mean(), 2), size = 12, ha = 'center')\n",
    "#get rid of box around the plot\n",
    "sns.despine()\n",
    "\n"
   ]
  },
  {
   "cell_type": "code",
   "execution_count": 12,
   "metadata": {},
   "outputs": [
    {
     "name": "stdout",
     "output_type": "stream",
     "text": [
      "-----Overall-----\n",
      "Chi-square statistic: 17.48633879781421\n",
      "DF: 2\n",
      "p-value: 0.00015954741632133663\n",
      "-----With vs Without-----\n",
      "Chi-square statistic: 15.089364764719894\n",
      "DF: 1\n",
      "p-value: 0.00010253936117097967\n",
      "-----With vs Mixed-----\n",
      "Chi-square statistic: 0.0\n",
      "DF: 1\n",
      "p-value: 1.0\n",
      "-----Mixed vs Without-----\n",
      "Chi-square statistic: 15.089364764719894\n",
      "DF: 1\n",
      "p-value: 0.00010253936117097967\n"
     ]
    }
   ],
   "source": [
    "#compare proportions \n",
    "#non-parametric (Chi-square)\n",
    "from scipy.stats import chi2_contingency\n",
    "#make contingency table\n",
    "contingency_table = pd.crosstab(df['condition'], df['good_choice_int'])\n",
    "#do chi-square test\n",
    "c, p, dof, expected = chi2_contingency(contingency_table) \n",
    "\n",
    "print('-----Overall-----')\n",
    "print(\"Chi-square statistic:\", c)\n",
    "print(\"DF:\", dof)\n",
    "print(\"p-value:\", p)\n",
    "\n",
    "#do the same with with vs without\n",
    "df_subset = df[df['condition'] != 'Mixed']\n",
    "contingency_table = pd.crosstab(df_subset['condition'], df_subset['good_choice_int'])\n",
    "#do chi-square test\n",
    "c, p, dof, expected = chi2_contingency(contingency_table) \n",
    "\n",
    "print('-----With vs Without-----')\n",
    "print(\"Chi-square statistic:\", c)\n",
    "print(\"DF:\", dof)\n",
    "print(\"p-value:\", p)\n",
    "\n",
    "#do the same with with vs mixed\n",
    "df_subset = df[df['condition'] != 'Without']\n",
    "contingency_table = pd.crosstab(df_subset['condition'], df_subset['good_choice_int'])\n",
    "#do chi-square test\n",
    "c, p, dof, expected = chi2_contingency(contingency_table) \n",
    "\n",
    "print('-----With vs Mixed-----')\n",
    "print(\"Chi-square statistic:\", c)\n",
    "print(\"DF:\", dof)\n",
    "print(\"p-value:\", p)\n",
    "\n",
    "#do the same with Mixed vs without\n",
    "df_subset = df[df['condition'] != 'With']\n",
    "contingency_table = pd.crosstab(df_subset['condition'], df_subset['good_choice_int'])\n",
    "#do chi-square test\n",
    "c, p, dof, expected = chi2_contingency(contingency_table) \n",
    "\n",
    "print('-----Mixed vs Without-----')\n",
    "print(\"Chi-square statistic:\", c)\n",
    "print(\"DF:\", dof)\n",
    "print(\"p-value:\", p)\n",
    "\n",
    "\n",
    "\n"
   ]
  },
  {
   "attachments": {},
   "cell_type": "markdown",
   "metadata": {},
   "source": [
    "Potential Issue with One way anova: \n",
    "A one-way ANOVA may not be the best statistical test to use for comparing proportions between three conditions because ANOVA assumes that the data is normally distributed and continuous. Proportions, on the other hand, are discrete data and have a specific range of values between 0 and 1.\n",
    "\n",
    "Instead, use chi-square test of independence, and kruskal wallis test to locate the difference if the chi-square test is significant. This is more appropriate than the fishers test for large sample sizes, which we have. "
   ]
  },
  {
   "attachments": {},
   "cell_type": "markdown",
   "metadata": {},
   "source": [
    "## Neuro Science Language in the Response"
   ]
  },
  {
   "cell_type": "code",
   "execution_count": 13,
   "metadata": {},
   "outputs": [
    {
     "name": "stderr",
     "output_type": "stream",
     "text": [
      "/var/folders/dv/nfxpqfgn50ncwmnyg61n91m80000gn/T/ipykernel_37443/1715165750.py:3: SettingWithCopyWarning: \n",
      "A value is trying to be set on a copy of a slice from a DataFrame.\n",
      "Try using .loc[row_indexer,col_indexer] = value instead\n",
      "\n",
      "See the caveats in the documentation: https://pandas.pydata.org/pandas-docs/stable/user_guide/indexing.html#returning-a-view-versus-a-copy\n",
      "  df_subset['neuro_used'] = np.where(df_subset['explanation_choice'].str.contains('brain|lobe|scan|neur|premotor|cortex'), 1, 0)\n"
     ]
    }
   ],
   "source": [
    "df_subset = df[df['condition'] != 'Without'] #create subset of with and mixed condition\n",
    "#create a variable that is 1 if the explanation_choice contains one of the following words: “brain”, “lobe,”, “scan”, “neur*”, “premotor,” “cortex”\n",
    "df_subset['neuro_used'] = np.where(df_subset['explanation_choice'].str.contains('brain|lobe|scan|neur|premotor|cortex'), 1, 0)"
   ]
  },
  {
   "cell_type": "code",
   "execution_count": 14,
   "metadata": {},
   "outputs": [
    {
     "name": "stdout",
     "output_type": "stream",
     "text": [
      "----Overall----\n",
      "0.3786764705882353\n",
      "----By condition----\n",
      "condition\n",
      "Mixed    0.338235\n",
      "With     0.419118\n",
      "Name: neuro_used, dtype: float64\n",
      "----By choosing good answer----\n",
      "good_choice_int\n",
      "0    0.558824\n",
      "1    0.352941\n",
      "Name: neuro_used, dtype: float64\n",
      "----By condition and choosing good answer----\n",
      "condition  good_choice_int\n",
      "Mixed      0                  1.000000\n",
      "           1                  0.243697\n",
      "With       0                  0.117647\n",
      "           1                  0.462185\n",
      "Name: neuro_used, dtype: float64\n"
     ]
    }
   ],
   "source": [
    "#proportion that contains these words\n",
    "print('----Overall----')\n",
    "print(df_subset['neuro_used'].mean())\n",
    "#proportion that contains these words in each condition\n",
    "print('----By condition----')\n",
    "print(df_subset.groupby('condition')['neuro_used'].mean())\n",
    "#proportion that contains these words in for answer good or not\n",
    "print('----By choosing good answer----')\n",
    "print(df_subset.groupby('good_choice_int')['neuro_used'].mean())\n",
    "#proportion by condition and answer\n",
    "print('----By condition and choosing good answer----')\n",
    "print(df_subset.groupby(['condition', 'good_choice_int'])['neuro_used'].mean())"
   ]
  }
 ],
 "metadata": {
  "kernelspec": {
   "display_name": "base",
   "language": "python",
   "name": "python3"
  },
  "language_info": {
   "codemirror_mode": {
    "name": "ipython",
    "version": 3
   },
   "file_extension": ".py",
   "mimetype": "text/x-python",
   "name": "python",
   "nbconvert_exporter": "python",
   "pygments_lexer": "ipython3",
   "version": "3.9.13"
  },
  "orig_nbformat": 4
 },
 "nbformat": 4,
 "nbformat_minor": 2
}
