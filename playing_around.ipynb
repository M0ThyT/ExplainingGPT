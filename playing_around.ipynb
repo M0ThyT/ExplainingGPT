{
 "cells": [
  {
   "attachments": {},
   "cell_type": "markdown",
   "metadata": {},
   "source": [
    "ChatGPT Beginning Test for Final Paper"
   ]
  },
  {
   "cell_type": "code",
   "execution_count": 1,
   "metadata": {},
   "outputs": [],
   "source": [
    "import pandas as pd\n",
    "import openai\n",
    "from utils_openAI import *"
   ]
  },
  {
   "cell_type": "code",
   "execution_count": 9,
   "metadata": {},
   "outputs": [
    {
     "name": "stdout",
     "output_type": "stream",
     "text": [
      "Personal API key added\n"
     ]
    }
   ],
   "source": [
    "#set API key\n",
    "set_api_key(personal = True)\n",
    "\n"
   ]
  },
  {
   "cell_type": "code",
   "execution_count": 3,
   "metadata": {},
   "outputs": [],
   "source": [
    "#set instructions\n",
    "instruction = \"\"\" You are an undergraduate psychology student at the \n",
    "                  University of Pennsylvania who is currently participating \n",
    "                  in a research experiment. In this experiment, you will be given \n",
    "                  different phenomena and various explanations for them. You are \n",
    "                  then asked to evaluate how good or bad these explanations are on \n",
    "                  a scale from -3 to +3. In your response, you will only return your\n",
    "                  evaluation number, nothing else. \"\"\""
   ]
  },
  {
   "cell_type": "code",
   "execution_count": 5,
   "metadata": {},
   "outputs": [],
   "source": [
    "phenomonon = \"\"\" Phenomenon: Subjects were asked to imagine a series of objects that \n",
    "were make-believe (for example, a unicorn) or that were real but not present in the \n",
    "room (for example, a mountain). As the subjects created mental images of the various \n",
    "objects, they were asked questions about their images and told to respond as quickly \n",
    "as possible, without reflecting on their answers. They were also asked the same \n",
    "questions about objects they could actually see in the room (for example, a pen). \n",
    "From an analysis of the responses to these questions and of the times it took \n",
    "subjects to respond, the researchers found a similar pattern of responses and \n",
    "response times for all three types of objects.\"\"\"\n",
    "\n",
    "explanation = \"\"\" Patterns of activation in the vision area of the brain led \n",
    "researchers to conclude this happens because imagining objects uses the same \n",
    "process as seeing objects. \"\"\"\n",
    "\n",
    "prompt = \"Phenomenon: [{}] Explanation: [{}]\".format(phenomonon, explanation)\n"
   ]
  },
  {
   "cell_type": "code",
   "execution_count": 10,
   "metadata": {},
   "outputs": [
    {
     "name": "stdout",
     "output_type": "stream",
     "text": [
      "+2\n"
     ]
    }
   ],
   "source": [
    "#output\n",
    "response = openai.ChatCompletion.create(\n",
    "  model=\"gpt-3.5-turbo\",\n",
    "  messages=[\n",
    "        {\"role\": \"system\", \"content\": instruction},\n",
    "        {\"role\": \"user\", \"content\": prompt}\n",
    "    ]\n",
    ")\n",
    "\n",
    "#print the result\n",
    "print(response['choices'][0]['message']['content'])"
   ]
  }
 ],
 "metadata": {
  "kernelspec": {
   "display_name": "base",
   "language": "python",
   "name": "python3"
  },
  "language_info": {
   "codemirror_mode": {
    "name": "ipython",
    "version": 3
   },
   "file_extension": ".py",
   "mimetype": "text/x-python",
   "name": "python",
   "nbconvert_exporter": "python",
   "pygments_lexer": "ipython3",
   "version": "3.9.13"
  },
  "orig_nbformat": 4
 },
 "nbformat": 4,
 "nbformat_minor": 2
}
