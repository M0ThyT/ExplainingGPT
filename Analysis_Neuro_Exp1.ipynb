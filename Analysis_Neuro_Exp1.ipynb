{
 "cells": [
  {
   "attachments": {},
   "cell_type": "markdown",
   "metadata": {},
   "source": [
    "# Analysis of Experiment 1 (Neuroscience)\n",
    "In this notebook I will walk through the analysis I did for the first Experiment. There are 5 major sections:\n",
    "* Preperation and First Look\n",
    "* Good vs Bad Explanations\n",
    "* Long vs Short Explanations\n",
    "* Neuro Science Jargon vs No Neuro science jargon\n",
    "* Analysis Combined"
   ]
  },
  {
   "attachments": {},
   "cell_type": "markdown",
   "metadata": {},
   "source": [
    "## Preperation and First Look\n",
    "Here I will load the data, and make sure it makes sense"
   ]
  },
  {
   "cell_type": "code",
   "execution_count": 3,
   "metadata": {},
   "outputs": [],
   "source": [
    "#Modules\n",
    "import pandas as pd\n",
    "import numpy as np\n",
    "import matplotlib.pyplot as plt\n",
    "import seaborn as sns\n",
    "import statsmodels.api as sm\n",
    "from statsmodels.formula.api import ols\n",
    "from scipy.stats import ttest_ind\n",
    "from utils_openAI import *"
   ]
  },
  {
   "cell_type": "code",
   "execution_count": 12,
   "metadata": {},
   "outputs": [
    {
     "data": {
      "text/html": [
       "<div>\n",
       "<style scoped>\n",
       "    .dataframe tbody tr th:only-of-type {\n",
       "        vertical-align: middle;\n",
       "    }\n",
       "\n",
       "    .dataframe tbody tr th {\n",
       "        vertical-align: top;\n",
       "    }\n",
       "\n",
       "    .dataframe thead th {\n",
       "        text-align: right;\n",
       "    }\n",
       "</style>\n",
       "<table border=\"1\" class=\"dataframe\">\n",
       "  <thead>\n",
       "    <tr style=\"text-align: right;\">\n",
       "      <th></th>\n",
       "      <th>Unnamed: 0</th>\n",
       "      <th>Condition</th>\n",
       "      <th>Stimulous</th>\n",
       "      <th>Answer Good</th>\n",
       "      <th>Answer</th>\n",
       "    </tr>\n",
       "  </thead>\n",
       "  <tbody>\n",
       "    <tr>\n",
       "      <th>0</th>\n",
       "      <td>0</td>\n",
       "      <td>With Neuroscience Long</td>\n",
       "      <td>0</td>\n",
       "      <td>True</td>\n",
       "      <td>2</td>\n",
       "    </tr>\n",
       "    <tr>\n",
       "      <th>1</th>\n",
       "      <td>0</td>\n",
       "      <td>With Neuroscience Long</td>\n",
       "      <td>2</td>\n",
       "      <td>False</td>\n",
       "      <td>-2</td>\n",
       "    </tr>\n",
       "    <tr>\n",
       "      <th>2</th>\n",
       "      <td>0</td>\n",
       "      <td>Without Neuroscience Short</td>\n",
       "      <td>1</td>\n",
       "      <td>True</td>\n",
       "      <td>3</td>\n",
       "    </tr>\n",
       "    <tr>\n",
       "      <th>3</th>\n",
       "      <td>0</td>\n",
       "      <td>With Neuroscience Short</td>\n",
       "      <td>0</td>\n",
       "      <td>False</td>\n",
       "      <td>-2</td>\n",
       "    </tr>\n",
       "    <tr>\n",
       "      <th>4</th>\n",
       "      <td>0</td>\n",
       "      <td>Without Neuroscience Long</td>\n",
       "      <td>2</td>\n",
       "      <td>False</td>\n",
       "      <td>-2</td>\n",
       "    </tr>\n",
       "  </tbody>\n",
       "</table>\n",
       "</div>"
      ],
      "text/plain": [
       "   Unnamed: 0                   Condition  Stimulous  Answer Good  Answer\n",
       "0           0      With Neuroscience Long          0         True       2\n",
       "1           0      With Neuroscience Long          2        False      -2\n",
       "2           0  Without Neuroscience Short          1         True       3\n",
       "3           0     With Neuroscience Short          0        False      -2\n",
       "4           0   Without Neuroscience Long          2        False      -2"
      ]
     },
     "execution_count": 12,
     "metadata": {},
     "output_type": "execute_result"
    }
   ],
   "source": [
    "#read data\n",
    "df = pd.read_csv('NeuroExp1b2.csv')\n",
    "df.shape\n",
    "df.head()"
   ]
  },
  {
   "cell_type": "code",
   "execution_count": 10,
   "metadata": {},
   "outputs": [
    {
     "name": "stdout",
     "output_type": "stream",
     "text": [
      "With Neuroscience Long        108\n",
      "Without Neuroscience Short    101\n",
      "With Neuroscience Short        96\n",
      "Without Neuroscience Long      95\n",
      "Name: Condition, dtype: int64\n",
      "0    147\n",
      "2    130\n",
      "1    123\n",
      "Name: Stimulous, dtype: int64\n",
      "True     205\n",
      "False    195\n",
      "Name: Answer Good, dtype: int64\n"
     ]
    }
   ],
   "source": [
    "#get the value count of the different conditions\n",
    "print(df['Condition'].value_counts())\n",
    "#get value counts of stimulous\n",
    "print(df['Stimulous'].value_counts())\n",
    "#get value counts of answer good\n",
    "print(df['Answer Good'].value_counts())"
   ]
  },
  {
   "attachments": {},
   "cell_type": "markdown",
   "metadata": {},
   "source": [
    "Seems balanced enough, so that is good. Next I will transform the data so I can use it for numerical analysis"
   ]
  },
  {
   "cell_type": "code",
   "execution_count": 34,
   "metadata": {},
   "outputs": [
    {
     "name": "stdout",
     "output_type": "stream",
     "text": [
      "   Answer  Stimulous  Answer Good  Long  NoNeuro  \\\n",
      "0       2          0            1     1        0   \n",
      "1      -2          2            0     1        0   \n",
      "2       3          1            1     0        1   \n",
      "3      -2          0            0     0        0   \n",
      "4      -2          2            0     1        1   \n",
      "\n",
      "   Condition_With Neuroscience Long  Condition_With Neuroscience Short  \\\n",
      "0                                 1                                  0   \n",
      "1                                 1                                  0   \n",
      "2                                 0                                  0   \n",
      "3                                 0                                  1   \n",
      "4                                 0                                  0   \n",
      "\n",
      "   Condition_Without Neuroscience Long  Condition_Without Neuroscience Short  \n",
      "0                                    0                                     0  \n",
      "1                                    0                                     0  \n",
      "2                                    0                                     1  \n",
      "3                                    0                                     0  \n",
      "4                                    1                                     0  \n"
     ]
    }
   ],
   "source": [
    "#Basic Data cleaning\n",
    "df = df[['Condition', 'Answer', 'Stimulous', 'Answer Good']] #only keep vars of interest\n",
    "df['Answer Good'] = df['Answer Good'].astype(int) #recode good bad to numeric dummy variable 0 bad, 1 good\n",
    "df['Long'] = df['Condition'].str.contains('Long')#create a variable that is one if the condition contains the word long\n",
    "df['Long'] = df['Long'].astype(int) #make numeric\n",
    "df['NoNeuro'] = df['Condition'].str.contains('Without')#create a variable that is one if the condition contains the word without, means it is the no neuroscien condition\n",
    "df['NoNeuro'] = df['NoNeuro'].astype(int) \n",
    "df_ohe = pd.get_dummies(df, columns = ['Condition']) #One hot encode conditions in seperate df\n",
    "print(df_ohe.head())\n",
    "\n"
   ]
  },
  {
   "cell_type": "code",
   "execution_count": 17,
   "metadata": {},
   "outputs": [
    {
     "name": "stdout",
     "output_type": "stream",
     "text": [
      "count    400.000000\n",
      "mean       0.555000\n",
      "std        2.145573\n",
      "min       -3.000000\n",
      "25%       -2.000000\n",
      "50%        2.000000\n",
      "75%        2.000000\n",
      "max        3.000000\n",
      "Name: Answer, dtype: float64\n"
     ]
    },
    {
     "data": {
      "text/plain": [
       "<AxesSubplot:>"
      ]
     },
     "execution_count": 17,
     "metadata": {},
     "output_type": "execute_result"
    },
    {
     "data": {
      "image/png": "[encoded data removed]",
      "text/plain": [
       "<Figure size 640x480 with 1 Axes>"
      ]
     },
     "metadata": {},
     "output_type": "display_data"
    }
   ],
   "source": [
    "#get summary statistics of Answer variable\n",
    "print(df['Answer'].describe())\n",
    "#create histogram of the answer\n",
    "df['Answer'].hist()"
   ]
  },
  {
   "attachments": {},
   "cell_type": "markdown",
   "metadata": {},
   "source": [
    "Ranges from -3 to +3 just as wanted. Mean around 0, sd pretty high. Extreme values are much more prominent than middle values. "
   ]
  },
  {
   "attachments": {},
   "cell_type": "markdown",
   "metadata": {},
   "source": [
    "## Good vs Bad Explanations\n",
    "In this section I will look at whether GPT favored good vs bad explanations. To reiterate, the difference is that the good answer provides some mechanistic explanation of what is going on, while the bad explanations were \"circular restatements of the phenomenon with no mechanistic information that could give a reason for the phenomenon\"."
   ]
  },
  {
   "cell_type": "code",
   "execution_count": 18,
   "metadata": {},
   "outputs": [
    {
     "name": "stdout",
     "output_type": "stream",
     "text": [
      "Answer Good\n",
      "0   -0.338462\n",
      "1    1.404878\n",
      "Name: Answer, dtype: float64\n",
      "Answer Good\n",
      "0    2.107500\n",
      "1    1.814153\n",
      "Name: Answer, dtype: float64\n"
     ]
    }
   ],
   "source": [
    "#compare the mean of answer good true and false for Answer\n",
    "print(df.groupby('Answer Good')['Answer'].mean())\n",
    "#get std of answer good true and false for Answer\n",
    "print(df.groupby('Answer Good')['Answer'].std())"
   ]
  },
  {
   "cell_type": "code",
   "execution_count": 35,
   "metadata": {},
   "outputs": [
    {
     "data": {
      "image/png": "[encoded data removed]",
      "text/plain": [
       "<Figure size 640x480 with 1 Axes>"
      ]
     },
     "metadata": {},
     "output_type": "display_data"
    }
   ],
   "source": [
    "#get all good values and all bad values from Answer in seperate np arrays\n",
    "good = df[df['Answer Good'] == True]['Answer'].values\n",
    "bad = df[df['Answer Good'] == False]['Answer'].values\n",
    "#make a boxplot of the two arrays\n",
    "plt.boxplot([good, bad])\n",
    "plt.xticks([1, 2], ['Good', 'Bad'])\n",
    "plt.ylabel('Answer')\n",
    "plt.show()"
   ]
  },
  {
   "cell_type": "code",
   "execution_count": 36,
   "metadata": {},
   "outputs": [
    {
     "data": {
      "image/png": "[encoded data removed]",
      "text/plain": [
       "<Figure size 640x480 with 1 Axes>"
      ]
     },
     "metadata": {},
     "output_type": "display_data"
    }
   ],
   "source": [
    "#bar plot of the counts of good and bad answers\n",
    "plt.hist([good, bad], label = ['Good', 'Bad'])\n",
    "plt.legend()\n",
    "plt.show()\n"
   ]
  },
  {
   "attachments": {},
   "cell_type": "markdown",
   "metadata": {},
   "source": [
    "We can already see a clear difference between good and bad means. Let's further dig into this. I will run a t-test to see if the difference is significant. I will also run a regression, even though it is the same as  a t-test with one predictor. I am doing this because I will run more regressions later that will have more predictors."
   ]
  },
  {
   "cell_type": "code",
   "execution_count": 55,
   "metadata": {},
   "outputs": [
    {
     "name": "stdout",
     "output_type": "stream",
     "text": [
      "Ttest_indResult(statistic=8.879912073625647, pvalue=2.3197038055846684e-17)\n",
      "                            OLS Regression Results                            \n",
      "==============================================================================\n",
      "Dep. Variable:                 Answer   R-squared:                       0.165\n",
      "Model:                            OLS   Adj. R-squared:                  0.163\n",
      "Method:                 Least Squares   F-statistic:                     77.87\n",
      "Date:                Mon, 01 May 2023   Prob (F-statistic):           3.51e-17\n",
      "Time:                        13:15:01   Log-Likelihood:                -836.29\n",
      "No. Observations:                 400   AIC:                             1677.\n",
      "Df Residuals:                     398   BIC:                             1685.\n",
      "Df Model:                           1                                         \n",
      "Covariance Type:                  HC3                                         \n",
      "===============================================================================\n",
      "                  coef    std err          z      P>|z|      [0.025      0.975]\n",
      "-------------------------------------------------------------------------------\n",
      "const          -0.3385      0.151     -2.237      0.025      -0.635      -0.042\n",
      "Answer Good     1.7433      0.198      8.825      0.000       1.356       2.131\n",
      "==============================================================================\n",
      "Omnibus:                       87.199   Durbin-Watson:                   2.067\n",
      "Prob(Omnibus):                  0.000   Jarque-Bera (JB):               20.230\n",
      "Skew:                          -0.212   Prob(JB):                     4.05e-05\n",
      "Kurtosis:                       1.984   Cond. No.                         2.65\n",
      "==============================================================================\n",
      "\n",
      "Notes:\n",
      "[1] Standard Errors are heteroscedasticity robust (HC3)\n"
     ]
    }
   ],
   "source": [
    "#t-test for difference in means\n",
    "ttest_good_bad = ttest_ind(df[df['Answer Good'] == 1]['Answer'], df[df['Answer Good'] == 0]['Answer'])\n",
    "#regression for difference in means\n",
    "x = df['Answer Good']\n",
    "y = df['Answer']\n",
    "x = sm.add_constant(x)\n",
    "reg_good_bad = sm.OLS(y, x).fit(cov_type = 'HC3')\n",
    "#print answer\n",
    "print(ttest_good_bad)\n",
    "print(reg_good_bad.summary())\n"
   ]
  },
  {
   "attachments": {},
   "cell_type": "markdown",
   "metadata": {},
   "source": [
    "Overall, GPT clearly likes the good explanations significantly more than the bad exlanations. Let's see if this is true for each of the 4 conditions."
   ]
  },
  {
   "cell_type": "code",
   "execution_count": 37,
   "metadata": {},
   "outputs": [
    {
     "data": {
      "image/png": "[encoded data removed]",
      "text/plain": [
       "<Figure size 640x480 with 1 Axes>"
      ]
     },
     "metadata": {},
     "output_type": "display_data"
    }
   ],
   "source": [
    "#get boxplots of the different conditions and answer good\n",
    "sns.boxplot(x = 'Condition', y = 'Answer', hue = 'Answer Good', data = df)\n",
    "#rotate x labels\n",
    "plt.xticks(rotation = 45)\n",
    "#change the text in ledged from True and False to Good and Bad while keeping the colors\n",
    "handles, labels = plt.gca().get_legend_handles_labels()\n",
    "plt.legend(handles, ['Good', 'Bad'])\n",
    "\n",
    "plt.show()"
   ]
  },
  {
   "cell_type": "code",
   "execution_count": 56,
   "metadata": {},
   "outputs": [
    {
     "name": "stdout",
     "output_type": "stream",
     "text": [
      "----------Without Neuro Science Short----------\n",
      "                            OLS Regression Results                            \n",
      "==============================================================================\n",
      "Dep. Variable:                 Answer   R-squared:                       0.250\n",
      "Model:                            OLS   Adj. R-squared:                  0.242\n",
      "Method:                 Least Squares   F-statistic:                     32.13\n",
      "Date:                Mon, 01 May 2023   Prob (F-statistic):           1.43e-07\n",
      "Time:                        13:15:22   Log-Likelihood:                -210.96\n",
      "No. Observations:                 101   AIC:                             425.9\n",
      "Df Residuals:                      99   BIC:                             431.1\n",
      "Df Model:                           1                                         \n",
      "Covariance Type:                  HC3                                         \n",
      "===============================================================================\n",
      "                  coef    std err          z      P>|z|      [0.025      0.975]\n",
      "-------------------------------------------------------------------------------\n",
      "const          -0.7755      0.299     -2.590      0.010      -1.362      -0.189\n",
      "Answer Good     2.2563      0.398      5.668      0.000       1.476       3.036\n",
      "==============================================================================\n",
      "Omnibus:                       14.177   Durbin-Watson:                   2.173\n",
      "Prob(Omnibus):                  0.001   Jarque-Bera (JB):                4.933\n",
      "Skew:                          -0.225   Prob(JB):                       0.0849\n",
      "Kurtosis:                       2.015   Cond. No.                         2.65\n",
      "==============================================================================\n",
      "\n",
      "Notes:\n",
      "[1] Standard Errors are heteroscedasticity robust (HC3)\n",
      "----------Without Neuro Science Long----------\n",
      "                            OLS Regression Results                            \n",
      "==============================================================================\n",
      "Dep. Variable:                 Answer   R-squared:                       0.014\n",
      "Model:                            OLS   Adj. R-squared:                  0.003\n",
      "Method:                 Least Squares   F-statistic:                     1.274\n",
      "Date:                Mon, 01 May 2023   Prob (F-statistic):              0.262\n",
      "Time:                        13:15:22   Log-Likelihood:                -208.21\n",
      "No. Observations:                  95   AIC:                             420.4\n",
      "Df Residuals:                      93   BIC:                             425.5\n",
      "Df Model:                           1                                         \n",
      "Covariance Type:                  HC3                                         \n",
      "===============================================================================\n",
      "                  coef    std err          z      P>|z|      [0.025      0.975]\n",
      "-------------------------------------------------------------------------------\n",
      "const           0.3830      0.335      1.144      0.253      -0.273       1.039\n",
      "Answer Good     0.5129      0.454      1.129      0.259      -0.378       1.403\n",
      "==============================================================================\n",
      "Omnibus:                     2903.079   Durbin-Watson:                   2.307\n",
      "Prob(Omnibus):                  0.000   Jarque-Bera (JB):               11.839\n",
      "Skew:                          -0.254   Prob(JB):                      0.00269\n",
      "Kurtosis:                       1.347   Cond. No.                         2.63\n",
      "==============================================================================\n",
      "\n",
      "Notes:\n",
      "[1] Standard Errors are heteroscedasticity robust (HC3)\n",
      "----------With Neuro Science Short----------\n",
      "                            OLS Regression Results                            \n",
      "==============================================================================\n",
      "Dep. Variable:                 Answer   R-squared:                       0.223\n",
      "Model:                            OLS   Adj. R-squared:                  0.214\n",
      "Method:                 Least Squares   F-statistic:                     26.38\n",
      "Date:                Mon, 01 May 2023   Prob (F-statistic):           1.51e-06\n",
      "Time:                        13:15:22   Log-Likelihood:                -198.48\n",
      "No. Observations:                  96   AIC:                             401.0\n",
      "Df Residuals:                      94   BIC:                             406.1\n",
      "Df Model:                           1                                         \n",
      "Covariance Type:                  HC3                                         \n",
      "===============================================================================\n",
      "                  coef    std err          z      P>|z|      [0.025      0.975]\n",
      "-------------------------------------------------------------------------------\n",
      "const          -0.8571      0.280     -3.067      0.002      -1.405      -0.309\n",
      "Answer Good     2.0486      0.399      5.137      0.000       1.267       2.830\n",
      "==============================================================================\n",
      "Omnibus:                        4.304   Durbin-Watson:                   2.139\n",
      "Prob(Omnibus):                  0.116   Jarque-Bera (JB):                2.335\n",
      "Skew:                           0.101   Prob(JB):                        0.311\n",
      "Kurtosis:                       2.263   Cond. No.                         2.59\n",
      "==============================================================================\n",
      "\n",
      "Notes:\n",
      "[1] Standard Errors are heteroscedasticity robust (HC3)\n",
      "----------With Neuro Science Long----------\n",
      "                            OLS Regression Results                            \n",
      "==============================================================================\n",
      "Dep. Variable:                 Answer   R-squared:                       0.287\n",
      "Model:                            OLS   Adj. R-squared:                  0.281\n",
      "Method:                 Least Squares   F-statistic:                     39.14\n",
      "Date:                Mon, 01 May 2023   Prob (F-statistic):           8.48e-09\n",
      "Time:                        13:15:22   Log-Likelihood:                -202.61\n",
      "No. Observations:                 108   AIC:                             409.2\n",
      "Df Residuals:                     106   BIC:                             414.6\n",
      "Df Model:                           1                                         \n",
      "Covariance Type:                  HC3                                         \n",
      "===============================================================================\n",
      "                  coef    std err          z      P>|z|      [0.025      0.975]\n",
      "-------------------------------------------------------------------------------\n",
      "const          -0.0800      0.280     -0.286      0.775      -0.628       0.468\n",
      "Answer Good     2.0110      0.321      6.256      0.000       1.381       2.641\n",
      "==============================================================================\n",
      "Omnibus:                        2.423   Durbin-Watson:                   1.907\n",
      "Prob(Omnibus):                  0.298   Jarque-Bera (JB):                2.254\n",
      "Skew:                          -0.353   Prob(JB):                        0.324\n",
      "Kurtosis:                       2.938   Cond. No.                         2.71\n",
      "==============================================================================\n",
      "\n",
      "Notes:\n",
      "[1] Standard Errors are heteroscedasticity robust (HC3)\n"
     ]
    }
   ],
   "source": [
    "c1 = df[df['Condition'] == 'Without Neuroscience Short']\n",
    "c2 = df[df['Condition'] == 'Without Neuroscience Long']\n",
    "c3 = df[df['Condition'] == 'With Neuroscience Short']\n",
    "c4 = df[df['Condition'] == 'With Neuroscience Long']\n",
    "\n",
    "#run a regression for each condition\n",
    "x = c1['Answer Good']\n",
    "y = c1['Answer']\n",
    "x = sm.add_constant(x)\n",
    "reg_c1 = sm.OLS(y, x).fit(cov_type = 'HC3')\n",
    "\n",
    "x = c2['Answer Good']\n",
    "y = c2['Answer']\n",
    "x = sm.add_constant(x)\n",
    "reg_c2 = sm.OLS(y, x).fit(cov_type = 'HC3')\n",
    "\n",
    "x = c3['Answer Good']\n",
    "y = c3['Answer']\n",
    "x = sm.add_constant(x)\n",
    "reg_c3 = sm.OLS(y, x).fit(cov_type = 'HC3')\n",
    "\n",
    "x = c4['Answer Good']\n",
    "y = c4['Answer']\n",
    "x = sm.add_constant(x)\n",
    "reg_c4 = sm.OLS(y, x).fit(cov_type = 'HC3')\n",
    "\n",
    "print('----------Without Neuro Science Short----------')\n",
    "print(reg_c1.summary())\n",
    "print('----------Without Neuro Science Long----------')\n",
    "print(reg_c2.summary())\n",
    "print('----------With Neuro Science Short----------')\n",
    "print(reg_c3.summary())\n",
    "print('----------With Neuro Science Long----------')\n",
    "print(reg_c4.summary())"
   ]
  },
  {
   "attachments": {},
   "cell_type": "markdown",
   "metadata": {},
   "source": [
    "Only in the Without Neuroscience Long condition did GPT not rate the good answers significantly higher. This is consistent with what we can see in the boxplot above."
   ]
  },
  {
   "attachments": {},
   "cell_type": "markdown",
   "metadata": {},
   "source": [
    "## Long vs Short Explanations\n",
    "In this section I will look at whether GPT favored long vs short explanations. "
   ]
  },
  {
   "cell_type": "code",
   "execution_count": 38,
   "metadata": {},
   "outputs": [
    {
     "name": "stdout",
     "output_type": "stream",
     "text": [
      "Long\n",
      "0    0.269036\n",
      "1    0.832512\n",
      "Name: Answer, dtype: float64\n",
      "Long\n",
      "0    2.223186\n",
      "1    2.034730\n",
      "Name: Answer, dtype: float64\n"
     ]
    }
   ],
   "source": [
    "#compare values\n",
    "#compare the mean of answer good true and false for Answer\n",
    "print(df.groupby('Long')['Answer'].mean())\n",
    "#get std of answer good true and false for Answer\n",
    "print(df.groupby('Long')['Answer'].std())"
   ]
  },
  {
   "cell_type": "code",
   "execution_count": 40,
   "metadata": {},
   "outputs": [
    {
     "data": {
      "image/png": "[encoded data removed]",
      "text/plain": [
       "<Figure size 640x480 with 1 Axes>"
      ]
     },
     "metadata": {},
     "output_type": "display_data"
    }
   ],
   "source": [
    "#get all good values and all bad values from Answer in seperate np arrays\n",
    "Long = df[df['Long'] == 1]['Answer'].values\n",
    "Short = df[df['Long'] == 0]['Answer'].values\n",
    "#make a boxplot of the two arrays\n",
    "plt.boxplot([Long, Short])\n",
    "plt.xticks([1, 2], ['Long', 'Short'])\n",
    "plt.ylabel('Answer')\n",
    "plt.show()"
   ]
  },
  {
   "cell_type": "code",
   "execution_count": 42,
   "metadata": {},
   "outputs": [
    {
     "data": {
      "image/png": "[encoded data removed]",
      "text/plain": [
       "<Figure size 640x480 with 1 Axes>"
      ]
     },
     "metadata": {},
     "output_type": "display_data"
    }
   ],
   "source": [
    "#bar plot of the counts of good and bad answers\n",
    "plt.hist([Short, Long], label = ['Short', 'Long'])\n",
    "plt.legend()\n",
    "plt.show()"
   ]
  },
  {
   "attachments": {},
   "cell_type": "markdown",
   "metadata": {},
   "source": [
    "Much less difference based on the length of the explanation. No clear preference visible from the graph."
   ]
  },
  {
   "cell_type": "code",
   "execution_count": 57,
   "metadata": {},
   "outputs": [
    {
     "name": "stdout",
     "output_type": "stream",
     "text": [
      "Ttest_indResult(statistic=2.6456019188745814, pvalue=0.008477688576972588)\n",
      "                            OLS Regression Results                            \n",
      "==============================================================================\n",
      "Dep. Variable:                 Answer   R-squared:                       0.017\n",
      "Model:                            OLS   Adj. R-squared:                  0.015\n",
      "Method:                 Least Squares   F-statistic:                     6.946\n",
      "Date:                Mon, 01 May 2023   Prob (F-statistic):            0.00873\n",
      "Time:                        13:15:45   Log-Likelihood:                -868.95\n",
      "No. Observations:                 400   AIC:                             1742.\n",
      "Df Residuals:                     398   BIC:                             1750.\n",
      "Df Model:                           1                                         \n",
      "Covariance Type:                  HC3                                         \n",
      "==============================================================================\n",
      "                 coef    std err          z      P>|z|      [0.025      0.975]\n",
      "------------------------------------------------------------------------------\n",
      "const          0.2690      0.159      1.694      0.090      -0.042       0.580\n",
      "Long           0.5635      0.214      2.635      0.008       0.144       0.983\n",
      "==============================================================================\n",
      "Omnibus:                     2443.637   Durbin-Watson:                   1.996\n",
      "Prob(Omnibus):                  0.000   Jarque-Bera (JB):               51.816\n",
      "Skew:                          -0.290   Prob(JB):                     5.60e-12\n",
      "Kurtosis:                       1.335   Cond. No.                         2.64\n",
      "==============================================================================\n",
      "\n",
      "Notes:\n",
      "[1] Standard Errors are heteroscedasticity robust (HC3)\n"
     ]
    }
   ],
   "source": [
    "#t-test for difference in means\n",
    "ttest_good_bad = ttest_ind(df[df['Long'] == 1]['Answer'], df[df['Long'] == 0]['Answer'])\n",
    "#regression for difference in means\n",
    "x = df['Long']\n",
    "y = df['Answer']\n",
    "x = sm.add_constant(x)\n",
    "reg_long_short = sm.OLS(y, x).fit(cov_type = 'HC3')\n",
    "#print answer\n",
    "print(ttest_good_bad)\n",
    "print(reg_long_short.summary())"
   ]
  },
  {
   "attachments": {},
   "cell_type": "markdown",
   "metadata": {},
   "source": [
    "Seems like there is a significant difference after all, with Long explanations being rated around 0.56 higher on average than short answers. However, the very low R2 demonstrates how little of the variance this model explains (only 1.7%). Let's see if this is true for both for good and bad explanations"
   ]
  },
  {
   "cell_type": "code",
   "execution_count": 58,
   "metadata": {},
   "outputs": [
    {
     "name": "stdout",
     "output_type": "stream",
     "text": [
      "----------Good----------\n",
      "                            OLS Regression Results                            \n",
      "==============================================================================\n",
      "Dep. Variable:                 Answer   R-squared:                       0.001\n",
      "Model:                            OLS   Adj. R-squared:                 -0.004\n",
      "Method:                 Least Squares   F-statistic:                    0.2154\n",
      "Date:                Mon, 01 May 2023   Prob (F-statistic):              0.643\n",
      "Time:                        13:16:02   Log-Likelihood:                -412.37\n",
      "No. Observations:                 205   AIC:                             828.7\n",
      "Df Residuals:                     203   BIC:                             835.4\n",
      "Df Model:                           1                                         \n",
      "Covariance Type:                  HC3                                         \n",
      "==============================================================================\n",
      "                 coef    std err          z      P>|z|      [0.025      0.975]\n",
      "------------------------------------------------------------------------------\n",
      "const          1.3434      0.192      7.014      0.000       0.968       1.719\n",
      "Long           0.1188      0.256      0.464      0.643      -0.383       0.621\n",
      "==============================================================================\n",
      "Omnibus:                       34.868   Durbin-Watson:                   2.265\n",
      "Prob(Omnibus):                  0.000   Jarque-Bera (JB):               49.208\n",
      "Skew:                          -1.195   Prob(JB):                     2.06e-11\n",
      "Kurtosis:                       2.785   Cond. No.                         2.66\n",
      "==============================================================================\n",
      "\n",
      "Notes:\n",
      "[1] Standard Errors are heteroscedasticity robust (HC3)\n",
      "----------Bad----------\n",
      "                            OLS Regression Results                            \n",
      "==============================================================================\n",
      "Dep. Variable:                 Answer   R-squared:                       0.052\n",
      "Model:                            OLS   Adj. R-squared:                  0.047\n",
      "Method:                 Least Squares   F-statistic:                     10.52\n",
      "Date:                Mon, 01 May 2023   Prob (F-statistic):            0.00139\n",
      "Time:                        13:16:02   Log-Likelihood:                -416.34\n",
      "No. Observations:                 195   AIC:                             836.7\n",
      "Df Residuals:                     193   BIC:                             843.2\n",
      "Df Model:                           1                                         \n",
      "Covariance Type:                  HC3                                         \n",
      "==============================================================================\n",
      "                 coef    std err          z      P>|z|      [0.025      0.975]\n",
      "------------------------------------------------------------------------------\n",
      "const         -0.8163      0.203     -4.027      0.000      -1.214      -0.419\n",
      "Long           0.9607      0.296      3.243      0.001       0.380       1.541\n",
      "==============================================================================\n",
      "Omnibus:                      954.568   Durbin-Watson:                   1.878\n",
      "Prob(Omnibus):                  0.000   Jarque-Bera (JB):               23.670\n",
      "Skew:                           0.451   Prob(JB):                     7.24e-06\n",
      "Kurtosis:                       1.551   Cond. No.                         2.61\n",
      "==============================================================================\n",
      "\n",
      "Notes:\n",
      "[1] Standard Errors are heteroscedasticity robust (HC3)\n"
     ]
    }
   ],
   "source": [
    "Good = df[df['Answer Good'] == 1]\n",
    "Bad = df[df['Answer Good'] == 0]\n",
    "\n",
    "#run a regression for each condition\n",
    "x = Good['Long']\n",
    "y = Good['Answer']\n",
    "x = sm.add_constant(x)\n",
    "reg_long_good = sm.OLS(y, x).fit(cov_type = 'HC3')\n",
    "\n",
    "x = Bad['Long']\n",
    "y = Bad['Answer']\n",
    "x = sm.add_constant(x)\n",
    "reg_long_bad = sm.OLS(y, x).fit(cov_type = 'HC3')\n",
    "\n",
    "print('----------Good----------')\n",
    "print(reg_long_good.summary())\n",
    "print('----------Bad----------')\n",
    "print(reg_long_bad.summary())"
   ]
  },
  {
   "attachments": {},
   "cell_type": "markdown",
   "metadata": {},
   "source": [
    "Seems to only hold for Bad explanations, for good explanations there does not seem to be a significant effect of length. Let's check if the neuro science jargon makes a difference."
   ]
  },
  {
   "cell_type": "code",
   "execution_count": 59,
   "metadata": {},
   "outputs": [
    {
     "name": "stdout",
     "output_type": "stream",
     "text": [
      "----------Neuro Science----------\n",
      "                            OLS Regression Results                            \n",
      "==============================================================================\n",
      "Dep. Variable:                 Answer   R-squared:                       0.043\n",
      "Model:                            OLS   Adj. R-squared:                  0.038\n",
      "Method:                 Least Squares   F-statistic:                     8.780\n",
      "Date:                Mon, 01 May 2023   Prob (F-statistic):            0.00341\n",
      "Time:                        13:16:21   Log-Likelihood:                -432.60\n",
      "No. Observations:                 204   AIC:                             869.2\n",
      "Df Residuals:                     202   BIC:                             875.8\n",
      "Df Model:                           1                                         \n",
      "Covariance Type:                  HC3                                         \n",
      "==============================================================================\n",
      "                 coef    std err          z      P>|z|      [0.025      0.975]\n",
      "------------------------------------------------------------------------------\n",
      "const          0.1458      0.224      0.652      0.515      -0.293       0.584\n",
      "Long           0.8542      0.288      2.963      0.003       0.289       1.419\n",
      "==============================================================================\n",
      "Omnibus:                     3577.126   Durbin-Watson:                   1.974\n",
      "Prob(Omnibus):                  0.000   Jarque-Bera (JB):               22.432\n",
      "Skew:                          -0.286   Prob(JB):                     1.35e-05\n",
      "Kurtosis:                       1.479   Cond. No.                         2.69\n",
      "==============================================================================\n",
      "\n",
      "Notes:\n",
      "[1] Standard Errors are heteroscedasticity robust (HC3)\n",
      "----------No Neuro Science----------\n",
      "                            OLS Regression Results                            \n",
      "==============================================================================\n",
      "Dep. Variable:                 Answer   R-squared:                       0.003\n",
      "Model:                            OLS   Adj. R-squared:                 -0.002\n",
      "Method:                 Least Squares   F-statistic:                    0.6390\n",
      "Date:                Mon, 01 May 2023   Prob (F-statistic):              0.425\n",
      "Time:                        13:16:21   Log-Likelihood:                -434.40\n",
      "No. Observations:                 196   AIC:                             872.8\n",
      "Df Residuals:                     194   BIC:                             879.4\n",
      "Df Model:                           1                                         \n",
      "Covariance Type:                  HC3                                         \n",
      "==============================================================================\n",
      "                 coef    std err          z      P>|z|      [0.025      0.975]\n",
      "------------------------------------------------------------------------------\n",
      "const          0.3861      0.227      1.703      0.089      -0.058       0.830\n",
      "Long           0.2560      0.320      0.799      0.424      -0.372       0.884\n",
      "==============================================================================\n",
      "Omnibus:                     1415.262   Durbin-Watson:                   2.161\n",
      "Prob(Omnibus):                  0.000   Jarque-Bera (JB):               27.254\n",
      "Skew:                          -0.271   Prob(JB):                     1.21e-06\n",
      "Kurtosis:                       1.255   Cond. No.                         2.58\n",
      "==============================================================================\n",
      "\n",
      "Notes:\n",
      "[1] Standard Errors are heteroscedasticity robust (HC3)\n"
     ]
    }
   ],
   "source": [
    "Neuro = df[df['NoNeuro'] == 0]\n",
    "NoNeuro = df[df['NoNeuro'] == 1]\n",
    "\n",
    "#run a regression for each condition\n",
    "x = Neuro['Long']\n",
    "y = Neuro['Answer']\n",
    "x = sm.add_constant(x)\n",
    "reg_long_Neuro = sm.OLS(y, x).fit(cov_type = 'HC3')\n",
    "\n",
    "x = NoNeuro['Long']\n",
    "y = NoNeuro['Answer']\n",
    "x = sm.add_constant(x)\n",
    "reg_long_NoNeuro = sm.OLS(y, x).fit(cov_type = 'HC3')\n",
    "\n",
    "print('----------Neuro Science----------')\n",
    "print(reg_long_Neuro.summary())\n",
    "print('----------No Neuro Science----------')\n",
    "print(reg_long_NoNeuro.summary())"
   ]
  },
  {
   "attachments": {},
   "cell_type": "markdown",
   "metadata": {},
   "source": [
    "The effect is present for the Neuro science conditions, but not for the one without. So if it is not including neuro science jargon then GPT does not care about the length of the explanation. Lets look last at the neuro condition split by good and bad. "
   ]
  },
  {
   "cell_type": "code",
   "execution_count": 60,
   "metadata": {},
   "outputs": [
    {
     "name": "stdout",
     "output_type": "stream",
     "text": [
      "----------Neuro Science Good----------\n",
      "                            OLS Regression Results                            \n",
      "==============================================================================\n",
      "Dep. Variable:                 Answer   R-squared:                       0.053\n",
      "Model:                            OLS   Adj. R-squared:                  0.044\n",
      "Method:                 Least Squares   F-statistic:                     5.155\n",
      "Date:                Mon, 01 May 2023   Prob (F-statistic):             0.0253\n",
      "Time:                        13:17:02   Log-Likelihood:                -195.16\n",
      "No. Observations:                 105   AIC:                             394.3\n",
      "Df Residuals:                     103   BIC:                             399.6\n",
      "Df Model:                           1                                         \n",
      "Covariance Type:                  HC3                                         \n",
      "==============================================================================\n",
      "                 coef    std err          z      P>|z|      [0.025      0.975]\n",
      "------------------------------------------------------------------------------\n",
      "const          1.1915      0.285      4.188      0.000       0.634       1.749\n",
      "Long           0.7395      0.326      2.270      0.023       0.101       1.378\n",
      "==============================================================================\n",
      "Omnibus:                       26.730   Durbin-Watson:                   1.912\n",
      "Prob(Omnibus):                  0.000   Jarque-Bera (JB):               36.748\n",
      "Skew:                          -1.387   Prob(JB):                     1.05e-08\n",
      "Kurtosis:                       3.838   Cond. No.                         2.76\n",
      "==============================================================================\n",
      "\n",
      "Notes:\n",
      "[1] Standard Errors are heteroscedasticity robust (HC3)\n",
      "----------Neuro Science Bad----------\n",
      "                            OLS Regression Results                            \n",
      "==============================================================================\n",
      "Dep. Variable:                 Answer   R-squared:                       0.039\n",
      "Model:                            OLS   Adj. R-squared:                  0.029\n",
      "Method:                 Least Squares   F-statistic:                     3.864\n",
      "Date:                Mon, 01 May 2023   Prob (F-statistic):             0.0522\n",
      "Time:                        13:17:02   Log-Likelihood:                -205.42\n",
      "No. Observations:                  99   AIC:                             414.8\n",
      "Df Residuals:                      97   BIC:                             420.0\n",
      "Df Model:                           1                                         \n",
      "Covariance Type:                  HC3                                         \n",
      "==============================================================================\n",
      "                 coef    std err          z      P>|z|      [0.025      0.975]\n",
      "------------------------------------------------------------------------------\n",
      "const         -0.8571      0.280     -3.067      0.002      -1.405      -0.309\n",
      "Long           0.7771      0.395      1.966      0.049       0.002       1.552\n",
      "==============================================================================\n",
      "Omnibus:                       31.779   Durbin-Watson:                   2.173\n",
      "Prob(Omnibus):                  0.000   Jarque-Bera (JB):               12.371\n",
      "Skew:                           0.653   Prob(JB):                      0.00206\n",
      "Kurtosis:                       1.863   Cond. No.                         2.63\n",
      "==============================================================================\n",
      "\n",
      "Notes:\n",
      "[1] Standard Errors are heteroscedasticity robust (HC3)\n",
      "----------No Neuro Science Good----------\n",
      "                            OLS Regression Results                            \n",
      "==============================================================================\n",
      "Dep. Variable:                 Answer   R-squared:                       0.022\n",
      "Model:                            OLS   Adj. R-squared:                  0.012\n",
      "Method:                 Least Squares   F-statistic:                     2.097\n",
      "Date:                Mon, 01 May 2023   Prob (F-statistic):              0.151\n",
      "Time:                        13:17:02   Log-Likelihood:                -209.62\n",
      "No. Observations:                 100   AIC:                             423.2\n",
      "Df Residuals:                      98   BIC:                             428.4\n",
      "Df Model:                           1                                         \n",
      "Covariance Type:                  HC3                                         \n",
      "==============================================================================\n",
      "                 coef    std err          z      P>|z|      [0.025      0.975]\n",
      "------------------------------------------------------------------------------\n",
      "const          1.4808      0.262      5.645      0.000       0.967       1.995\n",
      "Long          -0.5849      0.404     -1.448      0.148      -1.377       0.207\n",
      "==============================================================================\n",
      "Omnibus:                       22.364   Durbin-Watson:                   2.244\n",
      "Prob(Omnibus):                  0.000   Jarque-Bera (JB):               16.186\n",
      "Skew:                          -0.864   Prob(JB):                     0.000306\n",
      "Kurtosis:                       2.051   Cond. No.                         2.57\n",
      "==============================================================================\n",
      "\n",
      "Notes:\n",
      "[1] Standard Errors are heteroscedasticity robust (HC3)\n",
      "----------No Neuro Science Bad----------\n",
      "                            OLS Regression Results                            \n",
      "==============================================================================\n",
      "Dep. Variable:                 Answer   R-squared:                       0.068\n",
      "Model:                            OLS   Adj. R-squared:                  0.058\n",
      "Method:                 Least Squares   F-statistic:                     6.654\n",
      "Date:                Mon, 01 May 2023   Prob (F-statistic):             0.0114\n",
      "Time:                        13:17:02   Log-Likelihood:                -209.69\n",
      "No. Observations:                  96   AIC:                             423.4\n",
      "Df Residuals:                      94   BIC:                             428.5\n",
      "Df Model:                           1                                         \n",
      "Covariance Type:                  HC3                                         \n",
      "==============================================================================\n",
      "                 coef    std err          z      P>|z|      [0.025      0.975]\n",
      "------------------------------------------------------------------------------\n",
      "const         -0.7755      0.299     -2.590      0.010      -1.362      -0.189\n",
      "Long           1.1585      0.449      2.580      0.010       0.278       2.039\n",
      "==============================================================================\n",
      "Omnibus:                     1889.762   Durbin-Watson:                   2.029\n",
      "Prob(Omnibus):                  0.000   Jarque-Bera (JB):               12.372\n",
      "Skew:                           0.256   Prob(JB):                      0.00206\n",
      "Kurtosis:                       1.318   Cond. No.                         2.59\n",
      "==============================================================================\n",
      "\n",
      "Notes:\n",
      "[1] Standard Errors are heteroscedasticity robust (HC3)\n"
     ]
    }
   ],
   "source": [
    "Neuro_good = Neuro[Neuro['Answer Good'] == 1]\n",
    "Neuro_bad = Neuro[Neuro['Answer Good'] == 0]\n",
    "NoNeuro_good = NoNeuro[NoNeuro['Answer Good'] == 1]\n",
    "NoNeuro_bad = NoNeuro[NoNeuro['Answer Good'] == 0]\n",
    "\n",
    "#run a regression for each condition\n",
    "x = Neuro_good['Long']\n",
    "y = Neuro_good['Answer']\n",
    "x = sm.add_constant(x)\n",
    "reg_long_Neuro_good = sm.OLS(y, x).fit(cov_type = 'HC3')\n",
    "\n",
    "x = Neuro_bad['Long']\n",
    "y = Neuro_bad['Answer']\n",
    "x = sm.add_constant(x)\n",
    "reg_long_Neuro_bad = sm.OLS(y, x).fit(cov_type = 'HC3')\n",
    "\n",
    "x = NoNeuro_good['Long']\n",
    "y = NoNeuro_good['Answer']\n",
    "x = sm.add_constant(x)\n",
    "reg_long_NoNeuro_good = sm.OLS(y, x).fit(cov_type = 'HC3')\n",
    "\n",
    "x = NoNeuro_bad['Long']\n",
    "y = NoNeuro_bad['Answer']\n",
    "x = sm.add_constant(x)\n",
    "reg_long_NoNeuro_bad = sm.OLS(y, x).fit(cov_type = 'HC3')\n",
    "\n",
    "print('----------Neuro Science Good----------')\n",
    "print(reg_long_Neuro_good.summary())\n",
    "print('----------Neuro Science Bad----------')\n",
    "print(reg_long_Neuro_bad.summary())\n",
    "print('----------No Neuro Science Good----------')\n",
    "print(reg_long_NoNeuro_good.summary())\n",
    "print('----------No Neuro Science Bad----------')\n",
    "print(reg_long_NoNeuro_bad.summary())\n",
    "\n",
    "#compare values\n",
    "\n"
   ]
  },
  {
   "attachments": {},
   "cell_type": "markdown",
   "metadata": {},
   "source": [
    "Exists in all conditions except for -No Neuro Science Good"
   ]
  },
  {
   "attachments": {},
   "cell_type": "markdown",
   "metadata": {},
   "source": [
    "## Neuro Science Jargon vs No Neuro science jargon\n",
    "In this section I will look into the effect of neuro science Jargon"
   ]
  },
  {
   "cell_type": "code",
   "execution_count": 61,
   "metadata": {},
   "outputs": [
    {
     "name": "stdout",
     "output_type": "stream",
     "text": [
      "NoNeuro\n",
      "0    0.598039\n",
      "1    0.510204\n",
      "Name: Answer, dtype: float64\n",
      "NoNeuro\n",
      "0    2.066671\n",
      "1    2.229154\n",
      "Name: Answer, dtype: float64\n"
     ]
    }
   ],
   "source": [
    "#compare values\n",
    "#compare the mean of answer good true and false for Answer\n",
    "print(df.groupby('NoNeuro')['Answer'].mean())\n",
    "#get std of answer good true and false for Answer\n",
    "print(df.groupby('NoNeuro')['Answer'].std())"
   ]
  },
  {
   "cell_type": "code",
   "execution_count": 62,
   "metadata": {},
   "outputs": [
    {
     "data": {
      "image/png": "[encoded data removed]",
      "text/plain": [
       "<Figure size 640x480 with 1 Axes>"
      ]
     },
     "metadata": {},
     "output_type": "display_data"
    }
   ],
   "source": [
    "#get all good values and all bad values from Answer in seperate np arrays\n",
    "NoNeuro = df[df['NoNeuro'] == 1]['Answer'].values\n",
    "Neuro = df[df['NoNeuro'] == 0]['Answer'].values\n",
    "#make a boxplot of the two arrays\n",
    "plt.boxplot([Neuro, NoNeuro])\n",
    "plt.xticks([1, 2], ['Neuro', 'No Neuro'])\n",
    "plt.ylabel('Answer')\n",
    "plt.show()"
   ]
  },
  {
   "cell_type": "code",
   "execution_count": 63,
   "metadata": {},
   "outputs": [
    {
     "data": {
      "image/png": "[encoded data removed]",
      "text/plain": [
       "<Figure size 640x480 with 1 Axes>"
      ]
     },
     "metadata": {},
     "output_type": "display_data"
    }
   ],
   "source": [
    "#bar plot of the counts of good and bad answers\n",
    "plt.hist([Neuro, NoNeuro], label = ['Neuro', 'No Neuro'])\n",
    "plt.legend()\n",
    "plt.show()"
   ]
  },
  {
   "attachments": {},
   "cell_type": "markdown",
   "metadata": {},
   "source": [
    "Really does not seem like there is much of an effect. Seem pretty balanced. "
   ]
  },
  {
   "cell_type": "code",
   "execution_count": 64,
   "metadata": {},
   "outputs": [
    {
     "name": "stdout",
     "output_type": "stream",
     "text": [
      "Ttest_indResult(statistic=-0.4088691707070054, pvalue=0.6828555915420673)\n",
      "                            OLS Regression Results                            \n",
      "==============================================================================\n",
      "Dep. Variable:                 Answer   R-squared:                       0.000\n",
      "Model:                            OLS   Adj. R-squared:                 -0.002\n",
      "Method:                 Least Squares   F-statistic:                    0.1658\n",
      "Date:                Mon, 01 May 2023   Prob (F-statistic):              0.684\n",
      "Time:                        13:22:06   Log-Likelihood:                -872.35\n",
      "No. Observations:                 400   AIC:                             1749.\n",
      "Df Residuals:                     398   BIC:                             1757.\n",
      "Df Model:                           1                                         \n",
      "Covariance Type:                  HC3                                         \n",
      "==============================================================================\n",
      "                 coef    std err          z      P>|z|      [0.025      0.975]\n",
      "------------------------------------------------------------------------------\n",
      "const          0.5980      0.145      4.123      0.000       0.314       0.882\n",
      "NoNeuro       -0.0878      0.216     -0.407      0.684      -0.511       0.335\n",
      "==============================================================================\n",
      "Omnibus:                     2332.341   Durbin-Watson:                   2.026\n",
      "Prob(Omnibus):                  0.000   Jarque-Bera (JB):               54.381\n",
      "Skew:                          -0.313   Prob(JB):                     1.55e-12\n",
      "Kurtosis:                       1.305   Cond. No.                         2.60\n",
      "==============================================================================\n",
      "\n",
      "Notes:\n",
      "[1] Standard Errors are heteroscedasticity robust (HC3)\n"
     ]
    }
   ],
   "source": [
    "#t-test for difference in means\n",
    "ttest_good_bad = ttest_ind(df[df['NoNeuro'] == 1]['Answer'], df[df['NoNeuro'] == 0]['Answer'])\n",
    "#regression for difference in means\n",
    "x = df['NoNeuro']\n",
    "y = df['Answer']\n",
    "x = sm.add_constant(x)\n",
    "reg_long_short = sm.OLS(y, x).fit(cov_type = 'HC3')\n",
    "#print answer\n",
    "print(ttest_good_bad)\n",
    "print(reg_long_short.summary())"
   ]
  },
  {
   "attachments": {},
   "cell_type": "markdown",
   "metadata": {},
   "source": [
    "No difference between the groups. "
   ]
  },
  {
   "attachments": {},
   "cell_type": "markdown",
   "metadata": {},
   "source": [
    "## Analysis combined\n",
    "Here I will use multiple regression models instead of splitting the data up per groups to assess the interplay of the variables. "
   ]
  },
  {
   "cell_type": "code",
   "execution_count": 65,
   "metadata": {},
   "outputs": [
    {
     "name": "stdout",
     "output_type": "stream",
     "text": [
      "                            OLS Regression Results                            \n",
      "==============================================================================\n",
      "Dep. Variable:                 Answer   R-squared:                       0.181\n",
      "Model:                            OLS   Adj. R-squared:                  0.175\n",
      "Method:                 Least Squares   F-statistic:                     30.47\n",
      "Date:                Mon, 01 May 2023   Prob (F-statistic):           9.63e-18\n",
      "Time:                        13:30:48   Log-Likelihood:                -832.56\n",
      "No. Observations:                 400   AIC:                             1673.\n",
      "Df Residuals:                     396   BIC:                             1689.\n",
      "Df Model:                           3                                         \n",
      "Covariance Type:                  HC3                                         \n",
      "===============================================================================\n",
      "                  coef    std err          z      P>|z|      [0.025      0.975]\n",
      "-------------------------------------------------------------------------------\n",
      "const          -0.5728      0.203     -2.820      0.005      -0.971      -0.175\n",
      "Answer Good     1.7327      0.197      8.798      0.000       1.347       2.119\n",
      "Long            0.5269      0.198      2.663      0.008       0.139       0.915\n",
      "NoNeuro        -0.0565      0.198     -0.285      0.776      -0.445       0.332\n",
      "==============================================================================\n",
      "Omnibus:                       80.474   Durbin-Watson:                   2.029\n",
      "Prob(Omnibus):                  0.000   Jarque-Bera (JB):               19.545\n",
      "Skew:                          -0.208   Prob(JB):                     5.70e-05\n",
      "Kurtosis:                       2.000   Cond. No.                         3.79\n",
      "==============================================================================\n",
      "\n",
      "Notes:\n",
      "[1] Standard Errors are heteroscedasticity robust (HC3)\n"
     ]
    }
   ],
   "source": [
    "#regression with all variables answer good, long, noneuro\n",
    "x = df_ohe[['Answer Good', 'Long', 'NoNeuro']]\n",
    "y = df_ohe['Answer']\n",
    "x = sm.add_constant(x)\n",
    "reg_1 = sm.OLS(y, x).fit(cov_type = 'HC3')\n",
    "#print answer\n",
    "print(reg_1.summary())"
   ]
  },
  {
   "attachments": {},
   "cell_type": "markdown",
   "metadata": {},
   "source": [
    "Good answer and long seem to have an effect on how to judge a response. "
   ]
  },
  {
   "cell_type": "code",
   "execution_count": 69,
   "metadata": {},
   "outputs": [
    {
     "name": "stdout",
     "output_type": "stream",
     "text": [
      "                            OLS Regression Results                            \n",
      "==============================================================================\n",
      "Dep. Variable:                 Answer   R-squared:                       0.200\n",
      "Model:                            OLS   Adj. R-squared:                  0.188\n",
      "Method:                 Least Squares   F-statistic:                     19.13\n",
      "Date:                Mon, 01 May 2023   Prob (F-statistic):           1.40e-19\n",
      "Time:                        13:43:06   Log-Likelihood:                -827.87\n",
      "No. Observations:                 400   AIC:                             1670.\n",
      "Df Residuals:                     393   BIC:                             1698.\n",
      "Df Model:                           6                                         \n",
      "Covariance Type:                  HC3                                         \n",
      "=======================================================================================\n",
      "                          coef    std err          z      P>|z|      [0.025      0.975]\n",
      "---------------------------------------------------------------------------------------\n",
      "const                  -1.0738      0.262     -4.091      0.000      -1.588      -0.559\n",
      "Answer Good             2.4912      0.346      7.202      0.000       1.813       3.169\n",
      "Long                    1.2061      0.344      3.508      0.000       0.532       1.880\n",
      "NoNeuro                 0.5150      0.352      1.463      0.143      -0.175       1.205\n",
      "Answer Good:Long       -0.8755      0.396     -2.209      0.027      -1.652      -0.099\n",
      "Answer Good:NoNeuro    -0.6557      0.397     -1.650      0.099      -1.435       0.123\n",
      "Long:NoNeuro           -0.4902      0.396     -1.237      0.216      -1.267       0.286\n",
      "==============================================================================\n",
      "Omnibus:                       58.670   Durbin-Watson:                   2.035\n",
      "Prob(Omnibus):                  0.000   Jarque-Bera (JB):               17.213\n",
      "Skew:                          -0.203   Prob(JB):                     0.000183\n",
      "Kurtosis:                       2.069   Cond. No.                         9.33\n",
      "==============================================================================\n",
      "\n",
      "Notes:\n",
      "[1] Standard Errors are heteroscedasticity robust (HC3)\n"
     ]
    }
   ],
   "source": [
    "#add 2 way interaction terms\n",
    "df_ohe['Answer Good:Long'] = df_ohe['Answer Good'] * df_ohe['Long']\n",
    "df_ohe['Answer Good:NoNeuro'] = df_ohe['Answer Good'] * df_ohe['NoNeuro']\n",
    "df_ohe['Long:NoNeuro'] = df_ohe['Long'] * df_ohe['NoNeuro']\n",
    "\n",
    "\n",
    "\n",
    "x = df_ohe[['Answer Good', 'Long', 'NoNeuro', 'Answer Good:Long', 'Answer Good:NoNeuro', 'Long:NoNeuro']]\n",
    "y = df_ohe['Answer']\n",
    "x = sm.add_constant(x)\n",
    "reg_2 = sm.OLS(y, x).fit(cov_type = 'HC3')\n",
    "#print answer\n",
    "print(reg_2.summary())"
   ]
  },
  {
   "cell_type": "code",
   "execution_count": 70,
   "metadata": {},
   "outputs": [
    {
     "name": "stdout",
     "output_type": "stream",
     "text": [
      "                            OLS Regression Results                            \n",
      "==============================================================================\n",
      "Dep. Variable:                 Answer   R-squared:                       0.210\n",
      "Model:                            OLS   Adj. R-squared:                  0.195\n",
      "Method:                 Least Squares   F-statistic:                     19.07\n",
      "Date:                Mon, 01 May 2023   Prob (F-statistic):           6.32e-22\n",
      "Time:                        13:43:15   Log-Likelihood:                -825.39\n",
      "No. Observations:                 400   AIC:                             1667.\n",
      "Df Residuals:                     392   BIC:                             1699.\n",
      "Df Model:                           7                                         \n",
      "Covariance Type:                  HC3                                         \n",
      "============================================================================================\n",
      "                               coef    std err          z      P>|z|      [0.025      0.975]\n",
      "--------------------------------------------------------------------------------------------\n",
      "const                       -0.8571      0.280     -3.067      0.002      -1.405      -0.309\n",
      "Answer Good                  2.0486      0.399      5.137      0.000       1.267       2.830\n",
      "Long                         0.7771      0.395      1.966      0.049       0.002       1.552\n",
      "NoNeuro                      0.0816      0.410      0.199      0.842      -0.721       0.884\n",
      "Answer Good:Long            -0.0376      0.512     -0.073      0.941      -1.042       0.966\n",
      "Answer Good:NoNeuro          0.2076      0.563      0.369      0.712      -0.897       1.312\n",
      "Long:NoNeuro                 0.3813      0.598      0.637      0.524      -0.791       1.554\n",
      "Answer Good:Long:NoNeuro    -1.7058      0.792     -2.154      0.031      -3.258      -0.154\n",
      "==============================================================================\n",
      "Omnibus:                       71.302   Durbin-Watson:                   2.029\n",
      "Prob(Omnibus):                  0.000   Jarque-Bera (JB):               18.030\n",
      "Skew:                          -0.179   Prob(JB):                     0.000122\n",
      "Kurtosis:                       2.024   Cond. No.                         18.1\n",
      "==============================================================================\n",
      "\n",
      "Notes:\n",
      "[1] Standard Errors are heteroscedasticity robust (HC3)\n"
     ]
    }
   ],
   "source": [
    "#3 way interaction term\n",
    "df_ohe['Answer Good:Long:NoNeuro'] = df_ohe['Answer Good'] * df_ohe['Long'] * df_ohe['NoNeuro']\n",
    "\n",
    "\n",
    "x = df_ohe[['Answer Good', 'Long', 'NoNeuro', 'Answer Good:Long', 'Answer Good:NoNeuro', 'Long:NoNeuro', 'Answer Good:Long:NoNeuro']]\n",
    "y = df_ohe['Answer']\n",
    "x = sm.add_constant(x)\n",
    "reg_3 = sm.OLS(y, x).fit(cov_type = 'HC3')\n",
    "#print answer\n",
    "print(reg_3.summary())"
   ]
  },
  {
   "cell_type": "code",
   "execution_count": null,
   "metadata": {},
   "outputs": [],
   "source": []
  }
 ],
 "metadata": {
  "kernelspec": {
   "display_name": "base",
   "language": "python",
   "name": "python3"
  },
  "language_info": {
   "codemirror_mode": {
    "name": "ipython",
    "version": 3
   },
   "file_extension": ".py",
   "mimetype": "text/x-python",
   "name": "python",
   "nbconvert_exporter": "python",
   "pygments_lexer": "ipython3",
   "version": "3.9.13"
  },
  "orig_nbformat": 4
 },
 "nbformat": 4,
 "nbformat_minor": 2
}
