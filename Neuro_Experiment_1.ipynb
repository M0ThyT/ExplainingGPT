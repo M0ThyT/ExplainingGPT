{
 "cells": [
  {
   "cell_type": "code",
   "execution_count": 15,
   "metadata": {},
   "outputs": [],
   "source": [
    "import pandas as pd\n",
    "import re\n",
    "import random\n",
    "import numpy as np\n",
    "from utils_openAI import *"
   ]
  },
  {
   "attachments": {},
   "cell_type": "markdown",
   "metadata": {},
   "source": [
    "Store all stimulous meterial in a list\n"
   ]
  },
  {
   "cell_type": "code",
   "execution_count": 8,
   "metadata": {},
   "outputs": [],
   "source": [
    "stimulus = ['Babies were seated on their mothers’ laps in front of a stage. Researchers used a camera to track where the babies were looking. The babies saw a hand reach out and place one doll on the stage. Then a screen was raised, hiding the doll. A hand reached out again and placed a second doll on the stage, out of sight behind the screen. Then the screen dropped. In some cases, there were two dolls on the stage, as there should be, and in some cases there was only one doll. The researchers found that the babies looked much longer at the stage when there was only one doll than when there were two dolls. This looking-time difference between one doll and two dolls lead the researchers to conclude that babies can calculate 1 + 1 = 2.', \n",
    "'Subjects sat at a computer screen. They saw a rapidly flashing series of pictures of faces. Somewhere in this series of faces there were two pictures of houses. Subjects had to press a button each time they saw a house. When the two houses were far apart in the sequence, the subjects were very good at this task. But when the houses were presented close together in the sequence, subjects failed to press the button for the second house. The researchers call this phenomenon “attentional blink.”', \n",
    "'Researchers recruited equal numbers of male and female participants. The participants took a series of spatial  reasoning tasks and were interviewed. The researchers determined that men are better at spatial reasoning in general. From the interviews, they discovered that the men had played more sports in their childhood on average than the women.']\n",
    "\n"
   ]
  },
  {
   "attachments": {},
   "cell_type": "markdown",
   "metadata": {},
   "source": [
    "Store answers in a dict, where the key is the condtion and the value is a list with the three answers"
   ]
  },
  {
   "cell_type": "code",
   "execution_count": 3,
   "metadata": {},
   "outputs": [],
   "source": [
    "###Answers\n",
    "#Without Neuroscience Short Good\n",
    "l1 = [\"The researchers claim this happens because the babies had formed an expectation about how many dolls there should be on the stage. The babies knew there should be two dolls, and their surprise at seeing only one led to their looking longer.\",\n",
    "      \"The researchers claim that this phenomenon occurs because the subjects were still processing the first house and missed seeing the second house because they did not have enough attentional resources left.\", \n",
    "      \"The researchers conclude that the difference in involvement in sports explains the gender difference in spatial reasoning abilities.\"]\n",
    "\n",
    "#Without Neuroscience Short Bad\n",
    "l2 = [\"The researchers claim this happens because the amount of time the babies spent looking at the stage is directly proportional to how much they liked the display. The researchers used this timing data to calculate babies’ preference for the single doll.\", \n",
    "      \"The researchers claim that this phenomenon occurs because the second house appeared later in the sequence than the first house, and this temporal relationship between the two houses caused the attentional blink.\", \n",
    "      \"The researchers conclude that women’s poor performance relative to men’s explains the gender difference in spatial reasoning abilities.\"]\n",
    "\n",
    "#Without Neuroscience Long Good\n",
    "l3 = [\"The researchers claim that an analysis of the data shows that this happens because babies’ understanding of numbers and mathematics, which starts to emerge early in life, governed the babies’ expectations about how many dolls there should have been on the stage. The babies knew there should be two dolls, and their surprise at seeing only one led to their looking longer.\",\n",
    "      \"Researchers examined subjects’ pattern of button presses after they performed this task. They concluded that this phenomenon occurs because of how subjects’ perceptual abilities and their decision-making abilities functioned in response to the stimuli. The subjects were still processing the first house and missed seeing the second house because they did not have enough attentional resources left.\", \n",
    "      \"Detailed examinations of the subjects’ reported backgrounds and of their performance on the task indicate that the difference in involvement in sports causes different types of spatial reasoning responses. This explains the gender difference in spatial reasoning abilities.\"]\n",
    "\n",
    "#Without Neuroscience Long Bad\n",
    "l4 = [\"The researchers claim that an analysis of the data shows that this happens because babies’ understanding of numbers and mathematics, which starts to emerge early in life, governed the amount of time the babies spent looking at the stage. This time is directly proportional to how much they liked the display, and the researchers used this timing data to calculate babies’ preference for the single doll.\",\n",
    "      \"Researchers examined subjects’ pattern of button presses after they performed this task. They concluded that this phenomenon occurs because of how subjects’ perceptual abilities and their decision-making abilities functioned in response to the stimuli. The second house appeared later in the sequence than the first house, and this temporal relationship between the two houses caused the attentional blink.\", \n",
    "      \"Detailed examinations of the subjects’ reported backgrounds and of their performance on the task indicate that women’s poor performance relative men’s causes different types of spatial reasoning responses. This explains the gender difference in spatial reasoning abilities.\"]\n",
    "\n",
    "#With Neuroscience Short Good\n",
    "l5 = [\"Scans of the babies’ brains show that the parietal lobe, known to be involved in math, governed the babies’ expectations about how many dolls there should be. They expected two, so they were surprised to see one, so they looked longer.\", \n",
    "      \"Researchers concluded that this occurs because of frontal lobe areas, previously shown to mediate attention. Subjects were still processing the first house and missed the second because they had insufficient attentional resources.\", \n",
    "      \"Brain scans of the right premotor area, known to be involved in spatial tasks, indicate that the difference in sports involvement explains this gender difference.\"]\n",
    "\n",
    "\n",
    "#With Neuroscience Short Bad\n",
    "l6 = [\"Scans of the babies’ brains show that the parietal lobe, known to be involved in math, governed how long babies looked at the stage. Researchers used this timing data, which is proportional to babies’ liking of the display, to calculate their preferences.\", \n",
    "      \"Researchers concluded that this occurs because of frontal lobe areas, previously shown to mediate attention. The second house appeared later in the sequence. This temporal relationship between the two houses caused the attentional blink.\", \n",
    "      \"Brain scans of the right premotor area, known to be involved in spatial tasks, indicate that women’s poor performance relative to men’s explains this gender difference.\"]\n",
    "\n",
    "\n",
    "#With Neuroscience Long Good\n",
    "l7 = [\"The researchers claim that scans of the babies’ brains show that this happens because the part of babies’ brains known to be involved in math, the parietal lobe, governed the babies’ expectations about how many dolls there should be on the stage. The babies knew there should be two dolls, and their surprise at seeing only one led to their looking longer.\",\n",
    "      \"Researchers examined subjects’ brain activation as they performed this task. They concluded that this phenomenon occurs because of how areas in the frontal lobe, previously shown to mediate attention, functioned in response to the stimuli. The subjects were still processing the first house and missed seeing the second house because they did not have enough attentional resources left.\", \n",
    "      \"Brain scans of the right premotor area, known to be involved in spatial relational tasks, indicate that the difference in involvement in sports causes different types of brain responses. This explains the gender difference in spatial reasoning abilities.\"]\n",
    "\n",
    "#With Neuroscience Long Bad\n",
    "l8 = [\"The researchers claim scans of the babies’ brains show that this happens because the part of babies’ brains known to be involved in math, the parietal lobe, governed the amount of time the babies spent looking at the stage. This time is directly proportional to how much they liked the display, and the researchers used this timing data to calculate babies’ preference for the single doll.\", \n",
    "      \"Researchers examined subjects’ brain activation as they performed this task. They concluded that this phenomenon occurs because of how areas in the frontal lobe, previously shown to mediate attention, functioned in response to the stimuli. The second house appeared later in the sequence than the first house, and this temporal relationship between the two houses caused the attentional blink.\", \n",
    "      \"Brain scans of the right premotor area, known to be involved in spatial relational tasks indicate that women’s poor performance relative to men’s causes different types of brain responses. This explains the gender difference in spatial reasoning abilities.\"]\n",
    "\n",
    "#make into a dict of lists\n",
    "explanations_s1 = {\"Without Neuroscience Short Good\":l1, \"Without Neuroscience Short Bad\":l2, \"Without Neuroscience Long Good\":l3, \"Without Neuroscience Long Bad\":l4, \"With Neuroscience Short Good\":l5, \"With Neuroscience Short Bad\":l6, \"With Neuroscience Long Good\":l7, \"With Neuroscience Long Bad\":l8}\n"
   ]
  },
  {
   "attachments": {},
   "cell_type": "markdown",
   "metadata": {},
   "source": [
    "Create list of list with phenomenon, answer pairs"
   ]
  },
  {
   "cell_type": "code",
   "execution_count": 9,
   "metadata": {},
   "outputs": [
    {
     "name": "stdout",
     "output_type": "stream",
     "text": [
      "[['Babies were seated on their mothers’ laps in front of a stage. Researchers used a camera to track where the babies were looking. The babies saw a hand reach out and place one doll on the stage. Then a screen was raised, hiding the doll. A hand reached out again and placed a second doll on the stage, out of sight behind the screen. Then the screen dropped. In some cases, there were two dolls on the stage, as there should be, and in some cases there was only one doll. The researchers found that the babies looked much longer at the stage when there was only one doll than when there were two dolls. This looking-time difference between one doll and two dolls lead the researchers to conclude that babies can calculate 1 + 1 = 2.', 'Scans of the babies’ brains show that the parietal lobe, known to be involved in math, governed the babies’ expectations about how many dolls there should be. They expected two, so they were surprised to see one, so they looked longer.'], ['Subjects sat at a computer screen. They saw a rapidly flashing series of pictures of faces. Somewhere in this series of faces there were two pictures of houses. Subjects had to press a button each time they saw a house. When the two houses were far apart in the sequence, the subjects were very good at this task. But when the houses were presented close together in the sequence, subjects failed to press the button for the second house. The researchers call this phenomenon “attentional blink.”', 'Researchers concluded that this occurs because of frontal lobe areas, previously shown to mediate attention. The second house appeared later in the sequence. This temporal relationship between the two houses caused the attentional blink.'], ['Researchers recruited equal numbers of male and female participants. The participants took a series of spatial  reasoning tasks and were interviewed. The researchers determined that men are better at spatial reasoning in general. From the interviews, they discovered that the men had played more sports in their childhood on average than the women.', 'Brain scans of the right premotor area, known to be involved in spatial tasks, indicate that the difference in sports involvement explains this gender difference.']] [True, False, True]\n"
     ]
    }
   ],
   "source": [
    "\n",
    "\n",
    "stimulusx, good_booleansx = create_condition(stimulus, explanations_s1, \"With Neuroscience Short\")\n",
    "print(stimulusx, good_booleansx)"
   ]
  },
  {
   "attachments": {},
   "cell_type": "markdown",
   "metadata": {},
   "source": [
    "Create text for GPT input. Clearly show what is the phenomenon and what the answer. "
   ]
  },
  {
   "cell_type": "code",
   "execution_count": 10,
   "metadata": {},
   "outputs": [
    {
     "name": "stdout",
     "output_type": "stream",
     "text": [
      "Phenomenon: Babies were seated on their mothers’ laps in front of a stage. Researchers used a camera to track where the babies were looking. The babies saw a hand reach out and place one doll on the stage. Then a screen was raised, hiding the doll. A hand reached out again and placed a second doll on the stage, out of sight behind the screen. Then the screen dropped. In some cases, there were two dolls on the stage, as there should be, and in some cases there was only one doll. The researchers found that the babies looked much longer at the stage when there was only one doll than when there were two dolls. This looking-time difference between one doll and two dolls lead the researchers to conclude that babies can calculate 1 + 1 = 2. Explanation: Scans of the babies’ brains show that the parietal lobe, known to be involved in math, governed the babies’ expectations about how many dolls there should be. They expected two, so they were surprised to see one, so they looked longer.\n",
      " Phenomenon: Subjects sat at a computer screen. They saw a rapidly flashing series of pictures of faces. Somewhere in this series of faces there were two pictures of houses. Subjects had to press a button each time they saw a house. When the two houses were far apart in the sequence, the subjects were very good at this task. But when the houses were presented close together in the sequence, subjects failed to press the button for the second house. The researchers call this phenomenon “attentional blink.” Explanation: Researchers concluded that this occurs because of frontal lobe areas, previously shown to mediate attention. The second house appeared later in the sequence. This temporal relationship between the two houses caused the attentional blink.\n",
      " Phenomenon: Researchers recruited equal numbers of male and female participants. The participants took a series of spatial  reasoning tasks and were interviewed. The researchers determined that men are better at spatial reasoning in general. From the interviews, they discovered that the men had played more sports in their childhood on average than the women. Explanation: Brain scans of the right premotor area, known to be involved in spatial tasks, indicate that the difference in sports involvement explains this gender difference.\n",
      "\n"
     ]
    }
   ],
   "source": [
    "promptx = prompt_creator(stimulusx)\n",
    "print(promptx)"
   ]
  },
  {
   "attachments": {},
   "cell_type": "markdown",
   "metadata": {},
   "source": [
    "Create instructions for GPT and put it all together"
   ]
  },
  {
   "cell_type": "code",
   "execution_count": 11,
   "metadata": {},
   "outputs": [],
   "source": [
    "instruction = \"\"\" You are a research subjet who is currently participating \n",
    "                  in a research experiment. In this experiment, you will be given three\n",
    "                  different phenomena and an explanations for each of them. You are \n",
    "                  then asked to evaluate how good or bad these explanations are on \n",
    "                  a scale from -3 to +3. In your response, you will only return your\n",
    "                  evaluation numbers as follows[int1, int2, int3], nothing else. \"\"\""
   ]
  },
  {
   "cell_type": "code",
   "execution_count": 12,
   "metadata": {},
   "outputs": [
    {
     "name": "stdout",
     "output_type": "stream",
     "text": [
      "CSS API key\n"
     ]
    },
    {
     "ename": "NameError",
     "evalue": "name 'prompt' is not defined",
     "output_type": "error",
     "traceback": [
      "\u001b[0;31m---------------------------------------------------------------------------\u001b[0m",
      "\u001b[0;31mNameError\u001b[0m                                 Traceback (most recent call last)",
      "\u001b[0;32m/var/folders/dv/nfxpqfgn50ncwmnyg61n91m80000gn/T/ipykernel_33127/1688239910.py\u001b[0m in \u001b[0;36m<module>\u001b[0;34m\u001b[0m\n\u001b[1;32m      7\u001b[0m   messages=[\n\u001b[1;32m      8\u001b[0m         \u001b[0;34m{\u001b[0m\u001b[0;34m\"role\"\u001b[0m\u001b[0;34m:\u001b[0m \u001b[0;34m\"system\"\u001b[0m\u001b[0;34m,\u001b[0m \u001b[0;34m\"content\"\u001b[0m\u001b[0;34m:\u001b[0m \u001b[0minstruction\u001b[0m\u001b[0;34m}\u001b[0m\u001b[0;34m,\u001b[0m\u001b[0;34m\u001b[0m\u001b[0;34m\u001b[0m\u001b[0m\n\u001b[0;32m----> 9\u001b[0;31m         \u001b[0;34m{\u001b[0m\u001b[0;34m\"role\"\u001b[0m\u001b[0;34m:\u001b[0m \u001b[0;34m\"user\"\u001b[0m\u001b[0;34m,\u001b[0m \u001b[0;34m\"content\"\u001b[0m\u001b[0;34m:\u001b[0m \u001b[0mprompt\u001b[0m\u001b[0;34m}\u001b[0m\u001b[0;34m\u001b[0m\u001b[0;34m\u001b[0m\u001b[0m\n\u001b[0m\u001b[1;32m     10\u001b[0m     ]\n\u001b[1;32m     11\u001b[0m )\n",
      "\u001b[0;31mNameError\u001b[0m: name 'prompt' is not defined"
     ]
    }
   ],
   "source": [
    "#set OPEN ai API key\n",
    "\n",
    "openai.api_key = get_api_key(personal = False)\n",
    "#output\n",
    "response = openai.ChatCompletion.create(\n",
    "  model=\"gpt-3.5-turbo\",\n",
    "  messages=[\n",
    "        {\"role\": \"system\", \"content\": instruction},\n",
    "        {\"role\": \"user\", \"content\": prompt}\n",
    "    ]\n",
    ")\n",
    "\n",
    "#print the result\n",
    "print(response['choices'][0]['message']['content'])\n",
    "print(clean_output(response['choices'][0]['message']['content']))"
   ]
  },
  {
   "attachments": {},
   "cell_type": "markdown",
   "metadata": {},
   "source": [
    "# Generally works, so now the Experiment is created"
   ]
  },
  {
   "attachments": {},
   "cell_type": "markdown",
   "metadata": {},
   "source": [
    "## Create Sample Population\n",
    "The article had a sample size of 381, for cost reasons I will only create a 10th of this sample, so 38. Moreover, I will not create different personalities for GPT (for example, telling it that ti is a 20 year old undergrad, or a 38 year old MTurk worker) because I am interested in how it itself judges the explanations. \n"
   ]
  },
  {
   "cell_type": "code",
   "execution_count": 16,
   "metadata": {},
   "outputs": [
    {
     "name": "stdout",
     "output_type": "stream",
     "text": [
      "CSS API key\n"
     ]
    },
    {
     "ename": "NameError",
     "evalue": "name 're' is not defined",
     "output_type": "error",
     "traceback": [
      "\u001b[0;31m---------------------------------------------------------------------------\u001b[0m",
      "\u001b[0;31mNameError\u001b[0m                                 Traceback (most recent call last)",
      "\u001b[0;32m/var/folders/dv/nfxpqfgn50ncwmnyg61n91m80000gn/T/ipykernel_33127/2205650487.py\u001b[0m in \u001b[0;36m<module>\u001b[0;34m\u001b[0m\n\u001b[1;32m     30\u001b[0m \u001b[0;34m\u001b[0m\u001b[0m\n\u001b[1;32m     31\u001b[0m     \u001b[0;31m#clean response\u001b[0m\u001b[0;34m\u001b[0m\u001b[0;34m\u001b[0m\u001b[0m\n\u001b[0;32m---> 32\u001b[0;31m     \u001b[0manswers\u001b[0m \u001b[0;34m=\u001b[0m \u001b[0mclean_output\u001b[0m\u001b[0;34m(\u001b[0m\u001b[0mresponse\u001b[0m\u001b[0;34m[\u001b[0m\u001b[0;34m'choices'\u001b[0m\u001b[0;34m]\u001b[0m\u001b[0;34m[\u001b[0m\u001b[0;36m0\u001b[0m\u001b[0;34m]\u001b[0m\u001b[0;34m[\u001b[0m\u001b[0;34m'message'\u001b[0m\u001b[0;34m]\u001b[0m\u001b[0;34m[\u001b[0m\u001b[0;34m'content'\u001b[0m\u001b[0;34m]\u001b[0m\u001b[0;34m)\u001b[0m\u001b[0;34m\u001b[0m\u001b[0;34m\u001b[0m\u001b[0m\n\u001b[0m\u001b[1;32m     33\u001b[0m \u001b[0;34m\u001b[0m\u001b[0m\n\u001b[1;32m     34\u001b[0m \u001b[0;34m\u001b[0m\u001b[0m\n",
      "\u001b[0;32m~/Documents/University/Penn/Courses/Year 1/Explaining Explanations/Final Paper/utils_openAI.py\u001b[0m in \u001b[0;36mclean_output\u001b[0;34m(x)\u001b[0m\n\u001b[1;32m     75\u001b[0m     \u001b[0mx\u001b[0m \u001b[0;34m=\u001b[0m \u001b[0mx\u001b[0m\u001b[0;34m.\u001b[0m\u001b[0msplit\u001b[0m\u001b[0;34m(\u001b[0m\u001b[0;34m','\u001b[0m\u001b[0;34m)\u001b[0m\u001b[0;34m\u001b[0m\u001b[0;34m\u001b[0m\u001b[0m\n\u001b[1;32m     76\u001b[0m     \u001b[0;31m#take out all characters other than numbers and +,-\u001b[0m\u001b[0;34m\u001b[0m\u001b[0;34m\u001b[0m\u001b[0m\n\u001b[0;32m---> 77\u001b[0;31m     \u001b[0;32mfor\u001b[0m \u001b[0mi\u001b[0m \u001b[0;32min\u001b[0m \u001b[0mrange\u001b[0m\u001b[0;34m(\u001b[0m\u001b[0mlen\u001b[0m\u001b[0;34m(\u001b[0m\u001b[0mx\u001b[0m\u001b[0;34m)\u001b[0m\u001b[0;34m)\u001b[0m\u001b[0;34m:\u001b[0m\u001b[0;34m\u001b[0m\u001b[0;34m\u001b[0m\u001b[0m\n\u001b[0m\u001b[1;32m     78\u001b[0m         \u001b[0mx\u001b[0m\u001b[0;34m[\u001b[0m\u001b[0mi\u001b[0m\u001b[0;34m]\u001b[0m \u001b[0;34m=\u001b[0m \u001b[0mre\u001b[0m\u001b[0;34m.\u001b[0m\u001b[0msub\u001b[0m\u001b[0;34m(\u001b[0m\u001b[0;34m\"[^0-9-+]\"\u001b[0m\u001b[0;34m,\u001b[0m \u001b[0;34m\"\"\u001b[0m\u001b[0;34m,\u001b[0m \u001b[0mx\u001b[0m\u001b[0;34m[\u001b[0m\u001b[0mi\u001b[0m\u001b[0;34m]\u001b[0m\u001b[0;34m)\u001b[0m\u001b[0;34m\u001b[0m\u001b[0;34m\u001b[0m\u001b[0m\n\u001b[1;32m     79\u001b[0m     \u001b[0;31m#convert to int\u001b[0m\u001b[0;34m\u001b[0m\u001b[0;34m\u001b[0m\u001b[0m\n",
      "\u001b[0;31mNameError\u001b[0m: name 're' is not defined"
     ]
    }
   ],
   "source": [
    "#create conditions to be sampled from, with 10 items each for max\n",
    "conditions = [\"Without Neuroscience Short\"] * 10 + [\"Without Neuroscience Long\"] * 10 + [\"With Neuroscience Short\"] * 10 + [\"With Neuroscience Long\"] * 10\n",
    "\n",
    "#create empty pandas df with columns condition, Answer1 Good, Answer2 Good, Answer3 Good, Answer1 , Answer2 , Answer3 \n",
    "df = pd.DataFrame(columns = [\"Condition\", \"Answer1 Good\", \"Answer2 Good\", \"Answer3 Good\", \"Answer1\", \"Answer2\", \"Answer3\"])\n",
    "\n",
    "#for loop for 38 itterations\n",
    "for i in range(38):\n",
    "    #randomly sample a condition without replacement, so each element can appear a max of 10 times\n",
    "    condition = random.choice(conditions)\n",
    "    conditions.remove(condition)\n",
    "\n",
    "    #create stimulus and good booleans\n",
    "    stimulus_x, good_booleans = create_condition(stimulus, explanations_s1, condition)\n",
    "\n",
    "    #create prompt\n",
    "    prompt = prompt_creator(stimulus_x)\n",
    "\n",
    "    #set OPEN ai API key\n",
    "    openai.api_key = get_api_key(personal = False)\n",
    "\n",
    "    #output\n",
    "    response = openai.ChatCompletion.create(\n",
    "        model=\"gpt-3.5-turbo\",\n",
    "        messages=[\n",
    "            {\"role\": \"system\", \"content\": instruction},\n",
    "            {\"role\": \"user\", \"content\": prompt}\n",
    "        ]\n",
    "    )\n",
    "\n",
    "    #clean response\n",
    "    answers = clean_output(response['choices'][0]['message']['content'])\n",
    "\n",
    "\n",
    "    #create a new pd df with 1 row as the one outside the loop with values filled in\n",
    "    df_temp = pd.DataFrame([[condition, good_booleans[0], good_booleans[1], good_booleans[2], answers[0], answers[1], answers[2]]], columns = [\"Condition\", \"Answer1 Good\", \"Answer2 Good\", \"Answer3 Good\", \"Answer1\", \"Answer2\", \"Answer3\"])\n",
    "    \n",
    "    #append to df\n",
    "    df = pd.concat([df, df_temp])\n",
    "\n",
    "    #save csv file after every itteration\n",
    "    df.to_csv(\"NeuroExp1.csv\")\n",
    "    \n",
    "print(df)"
   ]
  },
  {
   "cell_type": "code",
   "execution_count": null,
   "metadata": {},
   "outputs": [],
   "source": [
    "#get the four counts of conditions in df\n",
    "df[\"Condition\"].value_counts()"
   ]
  },
  {
   "cell_type": "code",
   "execution_count": null,
   "metadata": {},
   "outputs": [],
   "source": [
    "#create list with 10 times the string hello, and 10 times bye, so the list should have a total length of 20\n",
    "list1 = [\"hello\"] * 10 + [\"bye\"] * 10\n",
    "print(list1)\n",
    "#sample from this list without replacement\n",
    "c = random.choice(list1)\n",
    "list1.remove(c)\n",
    "\n",
    "print(list1)\n"
   ]
  },
  {
   "cell_type": "code",
   "execution_count": null,
   "metadata": {},
   "outputs": [],
   "source": []
  }
 ],
 "metadata": {
  "kernelspec": {
   "display_name": "base",
   "language": "python",
   "name": "python3"
  },
  "language_info": {
   "codemirror_mode": {
    "name": "ipython",
    "version": 3
   },
   "file_extension": ".py",
   "mimetype": "text/x-python",
   "name": "python",
   "nbconvert_exporter": "python",
   "pygments_lexer": "ipython3",
   "version": "3.9.13"
  },
  "orig_nbformat": 4,
  "vscode": {
   "interpreter": {
    "hash": "0dc0b812dbb6b39e83a0b36e1e73ba7b4394f8620cbcc072f1b63b4ffecb41d9"
   }
  }
 },
 "nbformat": 4,
 "nbformat_minor": 2
}
